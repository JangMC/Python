{
 "cells": [
  {
   "cell_type": "code",
   "execution_count": 1,
   "metadata": {},
   "outputs": [
    {
     "name": "stderr",
     "output_type": "stream",
     "text": [
      "Using TensorFlow backend.\n"
     ]
    }
   ],
   "source": [
    "import keras\n",
    "keras.__version__\n",
    "from keras.datasets import imdb\n",
    "from keras import preprocessing\n",
    "from keras.preprocessing.text import Tokenizer\n",
    "from keras.preprocessing. sequence import pad_sequences\n",
    "import numpy as np\n",
    "from keras.layers import Embedding\n",
    "from keras.models import Sequential\n",
    "from keras.layers import Flatten, Dense\n",
    "from keras.layers import RNN, GRU, LSTM, SimpleRNN\n",
    "import matplotlib.pyplot as plt\n",
    "import os\n",
    "from keras.layers import Dropout, Conv1D, MaxPooling1D\n",
    "from keras.layers import Convolution1D, MaxPooling1D, ZeroPadding1D\n",
    "import time\n",
    "\n",
    "\n",
    "##code from chollet 6.1-using-word-embeddings"
   ]
  },
  {
   "cell_type": "markdown",
   "metadata": {},
   "source": [
    "## Word embeddings with the `Embedding` layer\n"
   ]
  },
  {
   "cell_type": "code",
   "execution_count": 2,
   "metadata": {},
   "outputs": [],
   "source": [
    "# The Embedding layer takes at least two arguments:\n",
    "# the number of possible tokens, here 1000 (1 + maximum word index),\n",
    "# and the dimensionality of the embeddings, here 64.\n",
    "embedding_layer = Embedding(1000, 64)"
   ]
  },
  {
   "cell_type": "code",
   "execution_count": 3,
   "metadata": {},
   "outputs": [],
   "source": [
    "# Number of words to consider as features\n",
    "max_features = 10000\n",
    "# Cut texts after this number of words \n",
    "# (among top max_features most common words)\n",
    "maxlen = 20\n",
    "\n",
    "# Load the data as lists of integers.\n",
    "(x_train, y_train), (x_test, y_test) = imdb.load_data(num_words=max_features)\n",
    "\n",
    "# This turns our lists of integers\n",
    "# into a 2D integer tensor of shape `(samples, maxlen)`\n",
    "x_train = preprocessing.sequence.pad_sequences(x_train, maxlen=maxlen)\n",
    "x_test = preprocessing.sequence.pad_sequences(x_test, maxlen=maxlen)"
   ]
  },
  {
   "cell_type": "markdown",
   "metadata": {},
   "source": [
    "Dense model - Word embeddings with Embedding layer"
   ]
  },
  {
   "cell_type": "code",
   "execution_count": 4,
   "metadata": {},
   "outputs": [
    {
     "name": "stdout",
     "output_type": "stream",
     "text": [
      "_________________________________________________________________\n",
      "Layer (type)                 Output Shape              Param #   \n",
      "=================================================================\n",
      "embedding_2 (Embedding)      (None, 20, 100)           1000000   \n",
      "_________________________________________________________________\n",
      "flatten_1 (Flatten)          (None, 2000)              0         \n",
      "_________________________________________________________________\n",
      "dense_1 (Dense)              (None, 1)                 2001      \n",
      "=================================================================\n",
      "Total params: 1,002,001\n",
      "Trainable params: 1,002,001\n",
      "Non-trainable params: 0\n",
      "_________________________________________________________________\n",
      "Train on 20000 samples, validate on 5000 samples\n",
      "Epoch 1/10\n",
      "20000/20000 [==============================] - 15s 763us/step - loss: 0.5902 - acc: 0.6848 - val_loss: 0.5134 - val_acc: 0.7328\n",
      "Epoch 2/10\n",
      "20000/20000 [==============================] - 14s 708us/step - loss: 0.4272 - acc: 0.8034 - val_loss: 0.4949 - val_acc: 0.7510\n",
      "Epoch 3/10\n",
      "20000/20000 [==============================] - 12s 594us/step - loss: 0.3482 - acc: 0.8511 - val_loss: 0.5053 - val_acc: 0.7452\n",
      "Epoch 4/10\n",
      "20000/20000 [==============================] - 12s 604us/step - loss: 0.2729 - acc: 0.8930 - val_loss: 0.5302 - val_acc: 0.7422\n",
      "Epoch 5/10\n",
      "20000/20000 [==============================] - 14s 694us/step - loss: 0.2042 - acc: 0.9284 - val_loss: 0.5642 - val_acc: 0.7336\n",
      "Epoch 6/10\n",
      "20000/20000 [==============================] - 14s 712us/step - loss: 0.1484 - acc: 0.9537 - val_loss: 0.6100 - val_acc: 0.7230\n",
      "Epoch 7/10\n",
      "20000/20000 [==============================] - 14s 680us/step - loss: 0.1051 - acc: 0.9707 - val_loss: 0.6613 - val_acc: 0.7192\n",
      "Epoch 8/10\n",
      "20000/20000 [==============================] - 14s 675us/step - loss: 0.0744 - acc: 0.9799 - val_loss: 0.7197 - val_acc: 0.7140\n",
      "Epoch 9/10\n",
      "20000/20000 [==============================] - 13s 626us/step - loss: 0.0520 - acc: 0.9857 - val_loss: 0.7850 - val_acc: 0.7066\n",
      "Epoch 10/10\n",
      "20000/20000 [==============================] - 13s 669us/step - loss: 0.0363 - acc: 0.9914 - val_loss: 0.8552 - val_acc: 0.7026\n"
     ]
    }
   ],
   "source": [
    "model = Sequential()\n",
    "# We specify the maximum input length to our Embedding layer\n",
    "# so we can later flatten the embedded inputs\n",
    "model.add(Embedding(10000, 100, input_length=maxlen))\n",
    "# After the Embedding layer, \n",
    "# our activations have shape `(samples, maxlen, 8)`.\n",
    "\n",
    "# We flatten the 3D tensor of embeddings \n",
    "# into a 2D tensor of shape `(samples, maxlen * 8)`\n",
    "model.add(Flatten())\n",
    "\n",
    "# We add the classifier on top\n",
    "model.add(Dense(1, activation='sigmoid'))\n",
    "model.compile(optimizer='rmsprop', loss='binary_crossentropy', metrics=['acc'])\n",
    "model.summary()\n",
    "\n",
    "start_time = time.clock()\n",
    "history = model.fit(x_train, y_train,\n",
    "                    epochs=10,\n",
    "                    batch_size=32,\n",
    "                    validation_split=0.2)\n",
    "end_time = time.clock()\n",
    "runtime = end_time - start_time  # seconds of wall-clock time\n",
    "\n",
    "model.save_weights('dense_embeddings.h5')"
   ]
  },
  {
   "cell_type": "code",
   "execution_count": 5,
   "metadata": {},
   "outputs": [
    {
     "data": {
      "image/png": "[encoded data removed]",
      "text/plain": [
       "<Figure size 432x288 with 1 Axes>"
      ]
     },
     "metadata": {
      "needs_background": "light"
     },
     "output_type": "display_data"
    },
    {
     "data": {
      "image/png": "[encoded data removed]",
      "text/plain": [
       "<Figure size 432x288 with 1 Axes>"
      ]
     },
     "metadata": {
      "needs_background": "light"
     },
     "output_type": "display_data"
    }
   ],
   "source": [
    "acc = history.history['acc']\n",
    "val_acc = history.history['val_acc']\n",
    "loss = history.history['loss']\n",
    "val_loss = history.history['val_loss']\n",
    "\n",
    "epochs = range(1, len(acc) + 1)\n",
    "\n",
    "plt.plot(epochs, acc, 'bo', label='Training acc')\n",
    "plt.plot(epochs, val_acc, 'b', label='Validation acc')\n",
    "plt.title('Dense Model with Keras Embeddings- Accuracy')\n",
    "plt.legend()\n",
    "\n",
    "plt.figure()\n",
    "\n",
    "plt.plot(epochs, loss, 'bo', label='Training loss')\n",
    "plt.plot(epochs, val_loss, 'b', label='Validation loss')\n",
    "plt.title('Dense Model with Keras Embeddings - Loss')\n",
    "plt.legend()\n",
    "\n",
    "plt.show()"
   ]
  },
  {
   "cell_type": "markdown",
   "metadata": {},
   "source": [
    "1D convolutional layer model - Word embeddings with Embedding layer"
   ]
  },
  {
   "cell_type": "raw",
   "metadata": {
    "scrolled": true
   },
   "source": [
    "model2 = Sequential()\n",
    "model2.add(Embedding(10000, 100, input_length=maxlen))\n",
    "model2.add(Conv1D(64, 4, activation='relu'))\n",
    "model2.add(Flatten())\n",
    "model2.add(Dense(1, activation='sigmoid'))\n",
    "model2.compile(optimizer='rmsprop', loss='binary_crossentropy', metrics=['acc'])\n",
    "model2.summary()\n",
    "\n",
    "start_time = time.clock()\n",
    "history2 = model2.fit(x_train, y_train,\n",
    "                    epochs=10,\n",
    "                    batch_size=32,\n",
    "                    validation_split=0.2)\n",
    "\n",
    "end_time = time.clock()\n",
    "runtime2 = end_time - start_time  # seconds of wall-clock time\n",
    "\n",
    "model2.save_weights('Conv1D_embeddings.h5')"
   ]
  },
  {
   "cell_type": "code",
   "execution_count": 7,
   "metadata": {},
   "outputs": [
    {
     "data": {
      "image/png": "[encoded data removed]",
      "text/plain": [
       "<Figure size 432x288 with 1 Axes>"
      ]
     },
     "metadata": {
      "needs_background": "light"
     },
     "output_type": "display_data"
    },
    {
     "data": {
      "image/png": "[encoded data removed]",
      "text/plain": [
       "<Figure size 432x288 with 1 Axes>"
      ]
     },
     "metadata": {
      "needs_background": "light"
     },
     "output_type": "display_data"
    }
   ],
   "source": [
    "acc = history2.history['acc']\n",
    "val_acc = history2.history['val_acc']\n",
    "loss = history2.history['loss']\n",
    "val_loss = history2.history['val_loss']\n",
    "\n",
    "epochs = range(1, len(acc) + 1)\n",
    "\n",
    "plt.plot(epochs, acc, 'bo', label='Training acc')\n",
    "plt.plot(epochs, val_acc, 'b', label='Validation acc')\n",
    "plt.title('Conv1D Model with Keras Embeddings - Accuracy')\n",
    "plt.legend()\n",
    "\n",
    "plt.figure()\n",
    "\n",
    "plt.plot(epochs, loss, 'bo', label='Training loss')\n",
    "plt.plot(epochs, val_loss, 'b', label='Validation loss')\n",
    "plt.title('Conv1D Model with Keras Embeddings - Loss')\n",
    "plt.legend()\n",
    "\n",
    "plt.show()"
   ]
  },
  {
   "cell_type": "markdown",
   "metadata": {},
   "source": [
    "GRU model - Word embeddings with Embedding layer"
   ]
  },
  {
   "cell_type": "code",
   "execution_count": 8,
   "metadata": {},
   "outputs": [
    {
     "name": "stdout",
     "output_type": "stream",
     "text": [
      "_________________________________________________________________\n",
      "Layer (type)                 Output Shape              Param #   \n",
      "=================================================================\n",
      "embedding_4 (Embedding)      (None, 20, 100)           1000000   \n",
      "_________________________________________________________________\n",
      "gru_1 (GRU)                  (None, 32)                12768     \n",
      "_________________________________________________________________\n",
      "dense_3 (Dense)              (None, 1)                 33        \n",
      "=================================================================\n",
      "Total params: 1,012,801\n",
      "Trainable params: 1,012,801\n",
      "Non-trainable params: 0\n",
      "_________________________________________________________________\n",
      "Train on 20000 samples, validate on 5000 samples\n",
      "Epoch 1/10\n",
      "20000/20000 [==============================] - 28s 1ms/step - loss: 0.5318 - acc: 0.7255 - val_loss: 0.4933 - val_acc: 0.7496\n",
      "Epoch 2/10\n",
      "20000/20000 [==============================] - 26s 1ms/step - loss: 0.4302 - acc: 0.8004 - val_loss: 0.4876 - val_acc: 0.7582\n",
      "Epoch 3/10\n",
      "20000/20000 [==============================] - 26s 1ms/step - loss: 0.3891 - acc: 0.8232 - val_loss: 0.4932 - val_acc: 0.7576\n",
      "Epoch 4/10\n",
      "20000/20000 [==============================] - 26s 1ms/step - loss: 0.3565 - acc: 0.8424 - val_loss: 0.5068 - val_acc: 0.7592\n",
      "Epoch 5/10\n",
      "20000/20000 [==============================] - 25s 1ms/step - loss: 0.3285 - acc: 0.8596 - val_loss: 0.5178 - val_acc: 0.7632\n",
      "Epoch 6/10\n",
      "20000/20000 [==============================] - 26s 1ms/step - loss: 0.2991 - acc: 0.8717 - val_loss: 0.5230 - val_acc: 0.7538\n",
      "Epoch 7/10\n",
      "20000/20000 [==============================] - 26s 1ms/step - loss: 0.2701 - acc: 0.8879 - val_loss: 0.5379 - val_acc: 0.7588\n",
      "Epoch 8/10\n",
      "20000/20000 [==============================] - 26s 1ms/step - loss: 0.2424 - acc: 0.9026 - val_loss: 0.5693 - val_acc: 0.7526\n",
      "Epoch 9/10\n",
      "20000/20000 [==============================] - 25s 1ms/step - loss: 0.2151 - acc: 0.9156 - val_loss: 0.6378 - val_acc: 0.7568\n",
      "Epoch 10/10\n",
      "20000/20000 [==============================] - 24s 1ms/step - loss: 0.1930 - acc: 0.9243 - val_loss: 0.6699 - val_acc: 0.7464\n"
     ]
    }
   ],
   "source": [
    "model3 = Sequential()\n",
    "model3.add(Embedding(10000, 100, input_length=maxlen))\n",
    "model3.add(GRU(32))\n",
    "model3.add(Dense(1, activation='sigmoid'))\n",
    "model3.compile(optimizer='rmsprop', loss='binary_crossentropy', metrics=['acc'])\n",
    "model3.summary()\n",
    "\n",
    "start_time = time.clock()\n",
    "history3 = model3.fit(x_train, y_train,\n",
    "                    epochs=10,\n",
    "                    batch_size=32,\n",
    "                    validation_split=0.2)\n",
    "\n",
    "end_time = time.clock()\n",
    "runtime3 = end_time - start_time  # seconds of wall-clock time\n",
    "\n",
    "model3.save_weights('GRU_embeddings.h5')"
   ]
  },
  {
   "cell_type": "code",
   "execution_count": 9,
   "metadata": {},
   "outputs": [
    {
     "data": {
      "image/png": "[encoded data removed]",
      "text/plain": [
       "<Figure size 432x288 with 1 Axes>"
      ]
     },
     "metadata": {
      "needs_background": "light"
     },
     "output_type": "display_data"
    },
    {
     "data": {
      "image/png": "[encoded data removed]",
      "text/plain": [
       "<Figure size 432x288 with 1 Axes>"
      ]
     },
     "metadata": {
      "needs_background": "light"
     },
     "output_type": "display_data"
    }
   ],
   "source": [
    "acc = history3.history['acc']\n",
    "val_acc = history3.history['val_acc']\n",
    "loss = history3.history['loss']\n",
    "val_loss = history3.history['val_loss']\n",
    "\n",
    "epochs = range(1, len(acc) + 1)\n",
    "\n",
    "plt.plot(epochs, acc, 'bo', label='Training acc')\n",
    "plt.plot(epochs, val_acc, 'b', label='Validation acc')\n",
    "plt.title('GRU Model with Keras Embeddings - Accuracy')\n",
    "plt.legend()\n",
    "\n",
    "plt.figure()\n",
    "\n",
    "plt.plot(epochs, loss, 'bo', label='Training loss')\n",
    "plt.plot(epochs, val_loss, 'b', label='Validation loss')\n",
    "plt.title('GRU Model with Keras Embeddings - Loss')\n",
    "plt.legend()\n",
    "\n",
    "plt.show()"
   ]
  },
  {
   "cell_type": "markdown",
   "metadata": {},
   "source": [
    "LSTM model - Word embeddings with Embedding layer"
   ]
  },
  {
   "cell_type": "code",
   "execution_count": 10,
   "metadata": {},
   "outputs": [
    {
     "name": "stdout",
     "output_type": "stream",
     "text": [
      "_________________________________________________________________\n",
      "Layer (type)                 Output Shape              Param #   \n",
      "=================================================================\n",
      "embedding_5 (Embedding)      (None, 20, 100)           1000000   \n",
      "_________________________________________________________________\n",
      "lstm_1 (LSTM)                (None, 32)                17024     \n",
      "_________________________________________________________________\n",
      "dense_4 (Dense)              (None, 1)                 33        \n",
      "=================================================================\n",
      "Total params: 1,017,057\n",
      "Trainable params: 1,017,057\n",
      "Non-trainable params: 0\n",
      "_________________________________________________________________\n",
      "Train on 20000 samples, validate on 5000 samples\n",
      "Epoch 1/10\n",
      "20000/20000 [==============================] - 27s 1ms/step - loss: 0.5341 - acc: 0.7253 - val_loss: 0.4971 - val_acc: 0.7474\n",
      "Epoch 2/10\n",
      "20000/20000 [==============================] - 28s 1ms/step - loss: 0.4289 - acc: 0.8002 - val_loss: 0.4926 - val_acc: 0.7578\n",
      "Epoch 3/10\n",
      "20000/20000 [==============================] - 29s 1ms/step - loss: 0.3915 - acc: 0.8196 - val_loss: 0.4879 - val_acc: 0.7624\n",
      "Epoch 4/10\n",
      "20000/20000 [==============================] - 27s 1ms/step - loss: 0.3607 - acc: 0.8389 - val_loss: 0.5093 - val_acc: 0.7582\n",
      "Epoch 5/10\n",
      "20000/20000 [==============================] - 26s 1ms/step - loss: 0.3329 - acc: 0.8548 - val_loss: 0.5138 - val_acc: 0.7536\n",
      "Epoch 6/10\n",
      "20000/20000 [==============================] - 26s 1ms/step - loss: 0.3074 - acc: 0.8700 - val_loss: 0.5165 - val_acc: 0.7552\n",
      "Epoch 7/10\n",
      "20000/20000 [==============================] - 26s 1ms/step - loss: 0.2784 - acc: 0.8834 - val_loss: 0.5321 - val_acc: 0.7486\n",
      "Epoch 8/10\n",
      "20000/20000 [==============================] - 26s 1ms/step - loss: 0.2497 - acc: 0.8965 - val_loss: 0.5778 - val_acc: 0.7480\n",
      "Epoch 9/10\n",
      "20000/20000 [==============================] - 26s 1ms/step - loss: 0.2227 - acc: 0.9113 - val_loss: 0.6792 - val_acc: 0.7418\n",
      "Epoch 10/10\n",
      "20000/20000 [==============================] - 26s 1ms/step - loss: 0.1969 - acc: 0.9217 - val_loss: 0.6547 - val_acc: 0.7354\n"
     ]
    }
   ],
   "source": [
    "model4 = Sequential()\n",
    "model4.add(Embedding(10000, 100, input_length=maxlen))\n",
    "model4.add(LSTM(32))\n",
    "model4.add(Dense(1, activation='sigmoid'))\n",
    "model4.compile(optimizer='rmsprop', loss='binary_crossentropy', metrics=['acc'])\n",
    "model4.summary()\n",
    "\n",
    "start_time = time.clock()\n",
    "history4 = model4.fit(x_train, y_train,\n",
    "                    epochs=10,\n",
    "                    batch_size=32,\n",
    "                    validation_split=0.2)\n",
    "\n",
    "end_time = time.clock()\n",
    "runtime4 = end_time - start_time  # seconds of wall-clock time\n",
    "\n",
    "model4.save_weights('LSTM_embeddings.h5')"
   ]
  },
  {
   "cell_type": "code",
   "execution_count": 11,
   "metadata": {},
   "outputs": [
    {
     "data": {
      "image/png": "[encoded data removed]",
      "text/plain": [
       "<Figure size 432x288 with 1 Axes>"
      ]
     },
     "metadata": {
      "needs_background": "light"
     },
     "output_type": "display_data"
    },
    {
     "data": {
      "image/png": "[encoded data removed]",
      "text/plain": [
       "<Figure size 432x288 with 1 Axes>"
      ]
     },
     "metadata": {
      "needs_background": "light"
     },
     "output_type": "display_data"
    }
   ],
   "source": [
    "acc = history4.history['acc']\n",
    "val_acc = history4.history['val_acc']\n",
    "loss = history4.history['loss']\n",
    "val_loss = history4.history['val_loss']\n",
    "\n",
    "epochs = range(1, len(acc) + 1)\n",
    "\n",
    "plt.plot(epochs, acc, 'bo', label='Training acc')\n",
    "plt.plot(epochs, val_acc, 'b', label='Validation acc')\n",
    "plt.title('LSTM Model with Keras Embeddings - Accuracy')\n",
    "plt.legend()\n",
    "\n",
    "plt.figure()\n",
    "\n",
    "plt.plot(epochs, loss, 'bo', label='Training loss')\n",
    "plt.plot(epochs, val_loss, 'b', label='Validation loss')\n",
    "plt.title('LSTM Model with Keras Embeddings - Loss')\n",
    "plt.legend()\n",
    "\n",
    "plt.show()"
   ]
  },
  {
   "cell_type": "markdown",
   "metadata": {},
   "source": [
    "simple rnn"
   ]
  },
  {
   "cell_type": "code",
   "execution_count": 12,
   "metadata": {},
   "outputs": [
    {
     "name": "stdout",
     "output_type": "stream",
     "text": [
      "_________________________________________________________________\n",
      "Layer (type)                 Output Shape              Param #   \n",
      "=================================================================\n",
      "embedding_6 (Embedding)      (None, 20, 100)           1000000   \n",
      "_________________________________________________________________\n",
      "simple_rnn_1 (SimpleRNN)     (None, 32)                4256      \n",
      "_________________________________________________________________\n",
      "dense_5 (Dense)              (None, 1)                 33        \n",
      "=================================================================\n",
      "Total params: 1,004,289\n",
      "Trainable params: 1,004,289\n",
      "Non-trainable params: 0\n",
      "_________________________________________________________________\n",
      "Train on 20000 samples, validate on 5000 samples\n",
      "Epoch 1/10\n",
      "20000/20000 [==============================] - 19s 938us/step - loss: 0.5513 - acc: 0.7111 - val_loss: 0.5407 - val_acc: 0.7374\n",
      "Epoch 2/10\n",
      "20000/20000 [==============================] - 17s 868us/step - loss: 0.3998 - acc: 0.8188 - val_loss: 0.5210 - val_acc: 0.7436\n",
      "Epoch 3/10\n",
      "20000/20000 [==============================] - 19s 964us/step - loss: 0.2682 - acc: 0.8908 - val_loss: 0.6159 - val_acc: 0.7244\n",
      "Epoch 4/10\n",
      "20000/20000 [==============================] - 18s 891us/step - loss: 0.1562 - acc: 0.9403 - val_loss: 0.7474 - val_acc: 0.7180\n",
      "Epoch 5/10\n",
      "20000/20000 [==============================] - 18s 921us/step - loss: 0.0867 - acc: 0.9696 - val_loss: 0.9271 - val_acc: 0.7016\n",
      "Epoch 6/10\n",
      "20000/20000 [==============================] - 18s 917us/step - loss: 0.0491 - acc: 0.9829 - val_loss: 1.0809 - val_acc: 0.7106\n",
      "Epoch 7/10\n",
      "20000/20000 [==============================] - 18s 902us/step - loss: 0.0276 - acc: 0.9905 - val_loss: 1.2853 - val_acc: 0.6826ss:\n",
      "Epoch 8/10\n",
      "20000/20000 [==============================] - 17s 870us/step - loss: 0.0166 - acc: 0.9942 - val_loss: 1.4461 - val_acc: 0.6752\n",
      "Epoch 9/10\n",
      "20000/20000 [==============================] - 17s 855us/step - loss: 0.0099 - acc: 0.9968 - val_loss: 1.6811 - val_acc: 0.6640\n",
      "Epoch 10/10\n",
      "20000/20000 [==============================] - 19s 942us/step - loss: 0.0070 - acc: 0.9980 - val_loss: 1.7369 - val_acc: 0.6600\n"
     ]
    }
   ],
   "source": [
    "model14 = Sequential()\n",
    "model14.add(Embedding(10000, 100, input_length=maxlen))\n",
    "model14.add(SimpleRNN(32))\n",
    "model14.add(Dense(1, activation='sigmoid'))\n",
    "model14.compile(optimizer='rmsprop', loss='binary_crossentropy', metrics=['acc'])\n",
    "model14.summary()\n",
    "\n",
    "start_time = time.clock()\n",
    "history14 = model14.fit(x_train, y_train,\n",
    "                    epochs=10,\n",
    "                    batch_size=32,\n",
    "                    validation_split=0.2)\n",
    "\n",
    "end_time = time.clock()\n",
    "runtime14 = end_time - start_time  # seconds of wall-clock time\n",
    "\n",
    "model14.save_weights('RNN_embeddings.h5')"
   ]
  },
  {
   "cell_type": "markdown",
   "metadata": {},
   "source": [
    "## Using pre-trained word embeddings - glove.6B.100d.txt\n"
   ]
  },
  {
   "cell_type": "code",
   "execution_count": 13,
   "metadata": {},
   "outputs": [],
   "source": [
    "#download the IMDP data as raw text\n",
    "\n",
    "imdb_dir = '/Users/MCJ/Documents/Northwestern/458 _AI_and_Deep Learning/week7/aclImdb/aclImdb'\n",
    "train_dir = os.path.join(imdb_dir, 'train')\n",
    "\n",
    "labels = []\n",
    "texts = []\n",
    "\n",
    "for label_type in ['neg', 'pos']:\n",
    "    dir_name = os.path.join(train_dir, label_type)\n",
    "    for fname in os.listdir(dir_name):\n",
    "        if fname[-4:] == '.txt':\n",
    "            f = open(os.path.join(dir_name, fname), encoding='utf-8')\n",
    "            texts.append(f.read())\n",
    "            f.close()\n",
    "            if label_type == 'neg':\n",
    "                labels.append(0)\n",
    "            else:\n",
    "                labels.append(1)"
   ]
  },
  {
   "cell_type": "code",
   "execution_count": 14,
   "metadata": {},
   "outputs": [
    {
     "name": "stdout",
     "output_type": "stream",
     "text": [
      "Found 88582 unique tokens.\n",
      "Shape of data tensor: (25000, 20)\n",
      "Shape of label tensor: (25000,)\n"
     ]
    }
   ],
   "source": [
    "#Tokenize the data\n",
    "\n",
    "maxlen = 20  # cut reviews after 20 words\n",
    "training_samples = 25000  # training on 20000 samples\n",
    "validation_samples = 5000  # validating on 5000 samples\n",
    "max_words = 10000  #consider the top 10,000 words in the dataset\n",
    "\n",
    "tokenizer = Tokenizer(num_words=max_words)\n",
    "tokenizer.fit_on_texts(texts)\n",
    "sequences = tokenizer.texts_to_sequences(texts)\n",
    "\n",
    "word_index = tokenizer.word_index\n",
    "print('Found %s unique tokens.' % len(word_index))\n",
    "\n",
    "data = pad_sequences(sequences, maxlen=maxlen)\n",
    "\n",
    "labels = np.asarray(labels)\n",
    "print('Shape of data tensor:', data.shape)\n",
    "print('Shape of label tensor:', labels.shape)\n",
    "\n",
    "# Split the data into a training set and a validation set\n",
    "# But first, shuffle the data, since we started from data\n",
    "# where sample are ordered (all negative first, then all positive).\n",
    "indices = np.arange(data.shape[0])\n",
    "np.random.shuffle(indices)\n",
    "data = data[indices]\n",
    "labels = labels[indices]\n",
    "\n",
    "x_train = data[:training_samples]\n",
    "y_train = labels[:training_samples]\n",
    "x_val = data[training_samples: training_samples + validation_samples]\n",
    "y_val = labels[training_samples: training_samples + validation_samples]"
   ]
  },
  {
   "cell_type": "code",
   "execution_count": 15,
   "metadata": {},
   "outputs": [
    {
     "name": "stdout",
     "output_type": "stream",
     "text": [
      "Found 400000 word vectors.\n"
     ]
    }
   ],
   "source": [
    "#Pre-process the embeddings\n",
    "\n",
    "glove_dir = '/Users/MCJ/Documents/Northwestern/458 _AI_and_Deep Learning/week7/Assignment 8/embeddings/gloVe.6B'\n",
    "\n",
    "embeddings_index = {}\n",
    "f = open(os.path.join(glove_dir, 'glove.6B.100d.txt'), encoding='utf-8')\n",
    "for line in f:\n",
    "    values = line.split()\n",
    "    word = values[0]\n",
    "    coefs = np.asarray(values[1:], dtype='float32')\n",
    "    embeddings_index[word] = coefs\n",
    "f.close()\n",
    "\n",
    "print('Found %s word vectors.' % len(embeddings_index))"
   ]
  },
  {
   "cell_type": "code",
   "execution_count": 16,
   "metadata": {},
   "outputs": [],
   "source": [
    "#build an embedding matrix to load into Embedding layer\n",
    "embedding_dim = 100\n",
    "\n",
    "embedding_matrix = np.zeros((max_words, embedding_dim))\n",
    "for word, i in word_index.items():\n",
    "    embedding_vector = embeddings_index.get(word)\n",
    "    if i < max_words:\n",
    "        if embedding_vector is not None:\n",
    "            # Words not found in embedding index will be all-zeros.\n",
    "            embedding_matrix[i] = embedding_vector"
   ]
  },
  {
   "cell_type": "markdown",
   "metadata": {},
   "source": [
    "Dense Model - pre-trained word embeddings - glove.6B.100d.txt with 10000 training"
   ]
  },
  {
   "cell_type": "code",
   "execution_count": 17,
   "metadata": {},
   "outputs": [
    {
     "name": "stdout",
     "output_type": "stream",
     "text": [
      "_________________________________________________________________\n",
      "Layer (type)                 Output Shape              Param #   \n",
      "=================================================================\n",
      "embedding_7 (Embedding)      (None, 20, 100)           1000000   \n",
      "_________________________________________________________________\n",
      "flatten_3 (Flatten)          (None, 2000)              0         \n",
      "_________________________________________________________________\n",
      "dense_6 (Dense)              (None, 32)                64032     \n",
      "_________________________________________________________________\n",
      "dense_7 (Dense)              (None, 1)                 33        \n",
      "=================================================================\n",
      "Total params: 1,064,065\n",
      "Trainable params: 1,064,065\n",
      "Non-trainable params: 0\n",
      "_________________________________________________________________\n",
      "Train on 20000 samples, validate on 5000 samples\n",
      "Epoch 1/10\n",
      "20000/20000 [==============================] - 4s 183us/step - loss: 0.6461 - acc: 0.6234 - val_loss: 0.6101 - val_acc: 0.6632\n",
      "Epoch 2/10\n",
      "20000/20000 [==============================] - 3s 141us/step - loss: 0.5868 - acc: 0.6859 - val_loss: 0.6028 - val_acc: 0.6644\n",
      "Epoch 3/10\n",
      "20000/20000 [==============================] - 3s 141us/step - loss: 0.5533 - acc: 0.7153 - val_loss: 0.5968 - val_acc: 0.6734\n",
      "Epoch 4/10\n",
      "20000/20000 [==============================] - 3s 140us/step - loss: 0.5160 - acc: 0.7407 - val_loss: 0.6266 - val_acc: 0.6576\n",
      "Epoch 5/10\n",
      "20000/20000 [==============================] - 3s 143us/step - loss: 0.4716 - acc: 0.7689 - val_loss: 0.6572 - val_acc: 0.6556\n",
      "Epoch 6/10\n",
      "20000/20000 [==============================] - 3s 138us/step - loss: 0.4225 - acc: 0.7999 - val_loss: 0.6569 - val_acc: 0.6678\n",
      "Epoch 7/10\n",
      "20000/20000 [==============================] - 3s 131us/step - loss: 0.3692 - acc: 0.8345 - val_loss: 0.7084 - val_acc: 0.6570\n",
      "Epoch 8/10\n",
      "20000/20000 [==============================] - 3s 144us/step - loss: 0.3141 - acc: 0.8659 - val_loss: 0.7717 - val_acc: 0.6518\n",
      "Epoch 9/10\n",
      "20000/20000 [==============================] - 3s 142us/step - loss: 0.2635 - acc: 0.8939 - val_loss: 0.8615 - val_acc: 0.6520\n",
      "Epoch 10/10\n",
      "20000/20000 [==============================] - 3s 139us/step - loss: 0.2176 - acc: 0.9144 - val_loss: 0.8904 - val_acc: 0.6482\n"
     ]
    }
   ],
   "source": [
    "model5 = Sequential()\n",
    "model5.add(Embedding(max_words, embedding_dim, input_length=maxlen))\n",
    "model5.add(Flatten())\n",
    "model5.add(Dense(32, activation='relu'))\n",
    "model5.add(Dense(1, activation='sigmoid'))\n",
    "model5.summary()\n",
    "\n",
    "#load GloVe embeddings in the model\n",
    "model5.layers[0].set_weights([embedding_matrix])\n",
    "model5.layers[0].trainable = False #freeze layer so pre-trained parts are not updated\n",
    "\n",
    "model5.compile(optimizer='rmsprop',\n",
    "              loss='binary_crossentropy',\n",
    "              metrics=['acc'])\n",
    "\n",
    "start_time = time.clock()\n",
    "history5 = model5.fit(x_train, y_train,\n",
    "                    epochs=10,\n",
    "                    batch_size=32,\n",
    "                    validation_split=0.2)\n",
    "\n",
    "end_time = time.clock()\n",
    "runtime5 = end_time - start_time  # seconds of wall-clock time\n",
    "\n",
    "\n",
    "model5.save_weights('dense_glove.h5')"
   ]
  },
  {
   "cell_type": "code",
   "execution_count": 18,
   "metadata": {},
   "outputs": [
    {
     "data": {
      "image/png": "[encoded data removed]",
      "text/plain": [
       "<Figure size 432x288 with 1 Axes>"
      ]
     },
     "metadata": {
      "needs_background": "light"
     },
     "output_type": "display_data"
    },
    {
     "data": {
      "image/png": "[encoded data removed]",
      "text/plain": [
       "<Figure size 432x288 with 1 Axes>"
      ]
     },
     "metadata": {
      "needs_background": "light"
     },
     "output_type": "display_data"
    }
   ],
   "source": [
    "\n",
    "acc = history5.history['acc']\n",
    "val_acc = history5.history['val_acc']\n",
    "loss = history5.history['loss']\n",
    "val_loss = history5.history['val_loss']\n",
    "\n",
    "epochs = range(1, len(acc) + 1)\n",
    "\n",
    "plt.plot(epochs, acc, 'bo', label='Training acc')\n",
    "plt.plot(epochs, val_acc, 'b', label='Validation acc')\n",
    "plt.title('Dense model with  glove.6B.100d.txt - Accuracy')\n",
    "plt.legend()\n",
    "\n",
    "plt.figure()\n",
    "\n",
    "plt.plot(epochs, loss, 'bo', label='Training loss')\n",
    "plt.plot(epochs, val_loss, 'b', label='Validation loss')\n",
    "plt.title('Dense model with  glove.6B.100d.txt - Loss')\n",
    "plt.legend()\n",
    "\n",
    "plt.show()"
   ]
  },
  {
   "cell_type": "markdown",
   "metadata": {},
   "source": [
    "1D convolutional layer model - pre-trained word embeddings - glove.6B.100d.txt"
   ]
  },
  {
   "cell_type": "code",
   "execution_count": 19,
   "metadata": {},
   "outputs": [
    {
     "name": "stdout",
     "output_type": "stream",
     "text": [
      "_________________________________________________________________\n",
      "Layer (type)                 Output Shape              Param #   \n",
      "=================================================================\n",
      "embedding_8 (Embedding)      (None, 20, 100)           1000000   \n",
      "_________________________________________________________________\n",
      "conv1d_2 (Conv1D)            (None, 17, 64)            25664     \n",
      "_________________________________________________________________\n",
      "flatten_4 (Flatten)          (None, 1088)              0         \n",
      "_________________________________________________________________\n",
      "dense_8 (Dense)              (None, 1)                 1089      \n",
      "=================================================================\n",
      "Total params: 1,026,753\n",
      "Trainable params: 1,026,753\n",
      "Non-trainable params: 0\n",
      "_________________________________________________________________\n",
      "Train on 20000 samples, validate on 5000 samples\n",
      "Epoch 1/10\n",
      "20000/20000 [==============================] - 7s 361us/step - loss: 0.6299 - acc: 0.6357 - val_loss: 0.5771 - val_acc: 0.6900\n",
      "Epoch 2/10\n",
      "20000/20000 [==============================] - 6s 313us/step - loss: 0.5446 - acc: 0.7203 - val_loss: 0.5692 - val_acc: 0.6966\n",
      "Epoch 3/10\n",
      "20000/20000 [==============================] - 6s 309us/step - loss: 0.4982 - acc: 0.7579 - val_loss: 0.5744 - val_acc: 0.6980\n",
      "Epoch 4/10\n",
      "20000/20000 [==============================] - 7s 348us/step - loss: 0.4560 - acc: 0.7824 - val_loss: 0.5839 - val_acc: 0.6944\n",
      "Epoch 5/10\n",
      "20000/20000 [==============================] - 6s 300us/step - loss: 0.4176 - acc: 0.8095 - val_loss: 0.6040 - val_acc: 0.6944\n",
      "Epoch 6/10\n",
      "20000/20000 [==============================] - 6s 310us/step - loss: 0.3761 - acc: 0.8346 - val_loss: 0.5897 - val_acc: 0.7054\n",
      "Epoch 7/10\n",
      "20000/20000 [==============================] - 6s 309us/step - loss: 0.3404 - acc: 0.8545 - val_loss: 0.6080 - val_acc: 0.7172\n",
      "Epoch 8/10\n",
      "20000/20000 [==============================] - 6s 283us/step - loss: 0.3060 - acc: 0.8740 - val_loss: 0.6344 - val_acc: 0.7090\n",
      "Epoch 9/10\n",
      "20000/20000 [==============================] - 6s 318us/step - loss: 0.2784 - acc: 0.8865 - val_loss: 0.6530 - val_acc: 0.7096\n",
      "Epoch 10/10\n",
      "20000/20000 [==============================] - 6s 315us/step - loss: 0.2456 - acc: 0.9044 - val_loss: 0.6991 - val_acc: 0.7080\n"
     ]
    }
   ],
   "source": [
    "model6 = Sequential()\n",
    "model6.add(Embedding(10000, 100, input_length=maxlen))\n",
    "model6.add(Conv1D(64, 4, activation='relu'))\n",
    "model6.add(Flatten())\n",
    "model6.add(Dense(1, activation='sigmoid'))\n",
    "model6.summary()\n",
    "\n",
    "#load GloVe embeddings in the model\n",
    "model6.layers[0].set_weights([embedding_matrix])\n",
    "model6.layers[0].trainable = False #freeze layer so pre-trained parts are not updated\n",
    "\n",
    "model6.compile(optimizer='rmsprop',\n",
    "              loss='binary_crossentropy',\n",
    "              metrics=['acc'])\n",
    "\n",
    "start_time = time.clock()\n",
    "history6 = model6.fit(x_train, y_train,\n",
    "                    epochs=10,\n",
    "                    batch_size=32,\n",
    "                    validation_split=0.2)\n",
    "\n",
    "end_time = time.clock()\n",
    "runtime6 = end_time - start_time  # seconds of wall-clock time\n",
    "\n",
    "\n",
    "model6.save_weights('Conv1D_glove.h5')\n"
   ]
  },
  {
   "cell_type": "code",
   "execution_count": 20,
   "metadata": {},
   "outputs": [
    {
     "data": {
      "image/png": "[encoded data removed]",
      "text/plain": [
       "<Figure size 432x288 with 1 Axes>"
      ]
     },
     "metadata": {
      "needs_background": "light"
     },
     "output_type": "display_data"
    },
    {
     "data": {
      "image/png": "[encoded data removed]",
      "text/plain": [
       "<Figure size 432x288 with 1 Axes>"
      ]
     },
     "metadata": {
      "needs_background": "light"
     },
     "output_type": "display_data"
    }
   ],
   "source": [
    "\n",
    "acc = history6.history['acc']\n",
    "val_acc = history6.history['val_acc']\n",
    "loss = history6.history['loss']\n",
    "val_loss = history6.history['val_loss']\n",
    "\n",
    "epochs = range(1, len(acc) + 1)\n",
    "\n",
    "plt.plot(epochs, acc, 'bo', label='Training acc')\n",
    "plt.plot(epochs, val_acc, 'b', label='Validation acc')\n",
    "plt.title('Conv1D model with  glove.6B.100d.txt - Accuracy')\n",
    "plt.legend()\n",
    "\n",
    "plt.figure()\n",
    "\n",
    "plt.plot(epochs, loss, 'bo', label='Training loss')\n",
    "plt.plot(epochs, val_loss, 'b', label='Validation loss')\n",
    "plt.title('Conv1D model with  glove.6B.100d.txt - Loss')\n",
    "plt.legend()\n",
    "\n",
    "plt.show()"
   ]
  },
  {
   "cell_type": "markdown",
   "metadata": {},
   "source": [
    "GRU model -  pre-trained word embeddings - glove.6B.100d.txt"
   ]
  },
  {
   "cell_type": "code",
   "execution_count": 21,
   "metadata": {},
   "outputs": [
    {
     "name": "stdout",
     "output_type": "stream",
     "text": [
      "_________________________________________________________________\n",
      "Layer (type)                 Output Shape              Param #   \n",
      "=================================================================\n",
      "embedding_9 (Embedding)      (None, 20, 100)           1000000   \n",
      "_________________________________________________________________\n",
      "gru_2 (GRU)                  (None, 32)                12768     \n",
      "_________________________________________________________________\n",
      "dense_9 (Dense)              (None, 1)                 33        \n",
      "=================================================================\n",
      "Total params: 1,012,801\n",
      "Trainable params: 1,012,801\n",
      "Non-trainable params: 0\n",
      "_________________________________________________________________\n",
      "Train on 20000 samples, validate on 5000 samples\n",
      "Epoch 1/10\n",
      "20000/20000 [==============================] - 12s 613us/step - loss: 0.6115 - acc: 0.6583 - val_loss: 0.5575 - val_acc: 0.7064\n",
      "Epoch 2/10\n",
      "20000/20000 [==============================] - 11s 565us/step - loss: 0.5395 - acc: 0.7247 - val_loss: 0.5345 - val_acc: 0.7222\n",
      "Epoch 3/10\n",
      "20000/20000 [==============================] - 10s 514us/step - loss: 0.5143 - acc: 0.7429 - val_loss: 0.5083 - val_acc: 0.7418\n",
      "Epoch 4/10\n",
      "20000/20000 [==============================] - 10s 520us/step - loss: 0.4916 - acc: 0.7590 - val_loss: 0.5009 - val_acc: 0.7446\n",
      "Epoch 5/10\n",
      "20000/20000 [==============================] - 11s 544us/step - loss: 0.4732 - acc: 0.7644 - val_loss: 0.4925 - val_acc: 0.7526\n",
      "Epoch 6/10\n",
      "20000/20000 [==============================] - 10s 508us/step - loss: 0.4566 - acc: 0.7796 - val_loss: 0.4832 - val_acc: 0.7554\n",
      "Epoch 7/10\n",
      "20000/20000 [==============================] - 11s 534us/step - loss: 0.4409 - acc: 0.7891 - val_loss: 0.4980 - val_acc: 0.7496\n",
      "Epoch 8/10\n",
      "20000/20000 [==============================] - 12s 590us/step - loss: 0.4243 - acc: 0.7971 - val_loss: 0.4840 - val_acc: 0.7602\n",
      "Epoch 9/10\n",
      "20000/20000 [==============================] - 10s 508us/step - loss: 0.4117 - acc: 0.8045 - val_loss: 0.4841 - val_acc: 0.7554\n",
      "Epoch 10/10\n",
      "20000/20000 [==============================] - 10s 514us/step - loss: 0.3977 - acc: 0.8156 - val_loss: 0.4988 - val_acc: 0.7560\n"
     ]
    }
   ],
   "source": [
    "model7 = Sequential()\n",
    "model7.add(Embedding(10000, 100, input_length=maxlen))\n",
    "model7.add(GRU(32))\n",
    "model7.add(Dense(1, activation='sigmoid'))\n",
    "model7.summary()\n",
    "\n",
    "#load GloVe embeddings in the model\n",
    "model7.layers[0].set_weights([embedding_matrix])\n",
    "model7.layers[0].trainable = False #freeze layer so pre-trained parts are not updated\n",
    "\n",
    "model7.compile(optimizer='rmsprop',\n",
    "              loss='binary_crossentropy',\n",
    "              metrics=['acc'])\n",
    "\n",
    "start_time = time.clock()\n",
    "history7 = model7.fit(x_train, y_train,\n",
    "                    epochs=10,\n",
    "                    batch_size=32,\n",
    "                    validation_split=0.2)\n",
    "\n",
    "end_time = time.clock()\n",
    "runtime7 = end_time - start_time  # seconds of wall-clock time\n",
    "\n",
    "\n",
    "model7.save_weights('GRU_glove.h5')\n"
   ]
  },
  {
   "cell_type": "code",
   "execution_count": 22,
   "metadata": {},
   "outputs": [
    {
     "data": {
      "image/png": "[encoded data removed]",
      "text/plain": [
       "<Figure size 432x288 with 1 Axes>"
      ]
     },
     "metadata": {
      "needs_background": "light"
     },
     "output_type": "display_data"
    },
    {
     "data": {
      "image/png": "[encoded data removed]",
      "text/plain": [
       "<Figure size 432x288 with 1 Axes>"
      ]
     },
     "metadata": {
      "needs_background": "light"
     },
     "output_type": "display_data"
    }
   ],
   "source": [
    "\n",
    "acc = history7.history['acc']\n",
    "val_acc = history7.history['val_acc']\n",
    "loss = history7.history['loss']\n",
    "val_loss = history7.history['val_loss']\n",
    "\n",
    "epochs = range(1, len(acc) + 1)\n",
    "\n",
    "plt.plot(epochs, acc, 'bo', label='Training acc')\n",
    "plt.plot(epochs, val_acc, 'b', label='Validation acc')\n",
    "plt.title('GRU model with glove.6B.100d.txt - Accuracy')\n",
    "plt.legend()\n",
    "\n",
    "plt.figure()\n",
    "\n",
    "plt.plot(epochs, loss, 'bo', label='Training loss')\n",
    "plt.plot(epochs, val_loss, 'b', label='Validation loss')\n",
    "plt.title('GRU model with glove.6B.100d.txt - Loss')\n",
    "plt.legend()\n",
    "\n",
    "plt.show()"
   ]
  },
  {
   "cell_type": "markdown",
   "metadata": {},
   "source": [
    "LSTM model -  pre-trained word embeddings - glove.6B.100d.txt"
   ]
  },
  {
   "cell_type": "code",
   "execution_count": 23,
   "metadata": {},
   "outputs": [
    {
     "name": "stdout",
     "output_type": "stream",
     "text": [
      "_________________________________________________________________\n",
      "Layer (type)                 Output Shape              Param #   \n",
      "=================================================================\n",
      "embedding_10 (Embedding)     (None, 20, 100)           1000000   \n",
      "_________________________________________________________________\n",
      "lstm_2 (LSTM)                (None, 32)                17024     \n",
      "_________________________________________________________________\n",
      "dense_10 (Dense)             (None, 1)                 33        \n",
      "=================================================================\n",
      "Total params: 1,017,057\n",
      "Trainable params: 1,017,057\n",
      "Non-trainable params: 0\n",
      "_________________________________________________________________\n",
      "Train on 20000 samples, validate on 5000 samples\n",
      "Epoch 1/10\n",
      "20000/20000 [==============================] - 14s 709us/step - loss: 0.6095 - acc: 0.6596 - val_loss: 0.5581 - val_acc: 0.7016\n",
      "Epoch 2/10\n",
      "20000/20000 [==============================] - 13s 628us/step - loss: 0.5459 - acc: 0.7166 - val_loss: 0.5395 - val_acc: 0.7110\n",
      "Epoch 3/10\n",
      "20000/20000 [==============================] - 13s 650us/step - loss: 0.5145 - acc: 0.7393 - val_loss: 0.5108 - val_acc: 0.7398\n",
      "Epoch 4/10\n",
      "20000/20000 [==============================] - 12s 603us/step - loss: 0.4948 - acc: 0.7540 - val_loss: 0.4998 - val_acc: 0.7470\n",
      "Epoch 5/10\n",
      "20000/20000 [==============================] - 12s 596us/step - loss: 0.4739 - acc: 0.7667 - val_loss: 0.5043 - val_acc: 0.7452\n",
      "Epoch 6/10\n",
      "20000/20000 [==============================] - 12s 613us/step - loss: 0.4558 - acc: 0.7803 - val_loss: 0.4854 - val_acc: 0.7598\n",
      "Epoch 7/10\n",
      "20000/20000 [==============================] - 13s 639us/step - loss: 0.4394 - acc: 0.7917 - val_loss: 0.4820 - val_acc: 0.7594\n",
      "Epoch 8/10\n",
      "20000/20000 [==============================] - 13s 664us/step - loss: 0.4212 - acc: 0.8018 - val_loss: 0.4932 - val_acc: 0.7556\n",
      "Epoch 9/10\n",
      "20000/20000 [==============================] - 12s 608us/step - loss: 0.4067 - acc: 0.8086 - val_loss: 0.5033 - val_acc: 0.7514\n",
      "Epoch 10/10\n",
      "20000/20000 [==============================] - 13s 661us/step - loss: 0.3916 - acc: 0.8173 - val_loss: 0.5030 - val_acc: 0.7626\n"
     ]
    }
   ],
   "source": [
    "model8 = Sequential()\n",
    "model8.add(Embedding(10000, 100, input_length=maxlen))\n",
    "model8.add(LSTM(32))\n",
    "model8.add(Dense(1, activation='sigmoid'))\n",
    "model8.summary()\n",
    "\n",
    "#load GloVe embeddings in the model\n",
    "model8.layers[0].set_weights([embedding_matrix])\n",
    "model8.layers[0].trainable = False #freeze layer so pre-trained parts are not updated\n",
    "\n",
    "model8.compile(optimizer='rmsprop',\n",
    "              loss='binary_crossentropy',\n",
    "              metrics=['acc'])\n",
    "\n",
    "start_time = time.clock()\n",
    "history8 = model8.fit(x_train, y_train,\n",
    "                    epochs=10,\n",
    "                    batch_size=32,\n",
    "                    validation_split=0.2)\n",
    "\n",
    "end_time = time.clock()\n",
    "runtime8 = end_time - start_time  # seconds of wall-clock time\n",
    "\n",
    "\n",
    "model8.save_weights('LSTM_glove.h5')\n"
   ]
  },
  {
   "cell_type": "code",
   "execution_count": 24,
   "metadata": {},
   "outputs": [
    {
     "data": {
      "image/png": "[encoded data removed]",
      "text/plain": [
       "<Figure size 432x288 with 1 Axes>"
      ]
     },
     "metadata": {
      "needs_background": "light"
     },
     "output_type": "display_data"
    },
    {
     "data": {
      "image/png": "[encoded data removed]",
      "text/plain": [
       "<Figure size 432x288 with 1 Axes>"
      ]
     },
     "metadata": {
      "needs_background": "light"
     },
     "output_type": "display_data"
    }
   ],
   "source": [
    "\n",
    "acc = history8.history['acc']\n",
    "val_acc = history8.history['val_acc']\n",
    "loss = history8.history['loss']\n",
    "val_loss = history8.history['val_loss']\n",
    "\n",
    "epochs = range(1, len(acc) + 1)\n",
    "\n",
    "plt.plot(epochs, acc, 'bo', label='Training acc')\n",
    "plt.plot(epochs, val_acc, 'b', label='Validation acc')\n",
    "plt.title('LSTM model with glove.6B.100d.txt - Accuracy')\n",
    "plt.legend()\n",
    "\n",
    "plt.figure()\n",
    "\n",
    "plt.plot(epochs, loss, 'bo', label='Training loss')\n",
    "plt.plot(epochs, val_loss, 'b', label='Validation loss')\n",
    "plt.title('LSTM model with glove.6B.100d.txt - Loss')\n",
    "plt.legend()\n",
    "\n",
    "plt.show()"
   ]
  },
  {
   "cell_type": "markdown",
   "metadata": {},
   "source": [
    "CONV 1D and LSTM model -  pre-trained word embeddings - glove.6B.100d.txt"
   ]
  },
  {
   "cell_type": "code",
   "execution_count": 25,
   "metadata": {},
   "outputs": [
    {
     "name": "stdout",
     "output_type": "stream",
     "text": [
      "_________________________________________________________________\n",
      "Layer (type)                 Output Shape              Param #   \n",
      "=================================================================\n",
      "embedding_11 (Embedding)     (None, 20, 100)           1000000   \n",
      "_________________________________________________________________\n",
      "conv1d_3 (Conv1D)            (None, 17, 64)            25664     \n",
      "_________________________________________________________________\n",
      "lstm_3 (LSTM)                (None, 32)                12416     \n",
      "_________________________________________________________________\n",
      "dense_11 (Dense)             (None, 1)                 33        \n",
      "=================================================================\n",
      "Total params: 1,038,113\n",
      "Trainable params: 1,038,113\n",
      "Non-trainable params: 0\n",
      "_________________________________________________________________\n",
      "Train on 20000 samples, validate on 5000 samples\n",
      "Epoch 1/10\n",
      "20000/20000 [==============================] - 18s 913us/step - loss: 0.6116 - acc: 0.6581 - val_loss: 0.5859 - val_acc: 0.6674\n",
      "Epoch 2/10\n",
      "20000/20000 [==============================] - 16s 793us/step - loss: 0.5384 - acc: 0.7244 - val_loss: 0.5637 - val_acc: 0.7072\n",
      "Epoch 3/10\n",
      "20000/20000 [==============================] - 15s 757us/step - loss: 0.5005 - acc: 0.7510 - val_loss: 0.5056 - val_acc: 0.7458\n",
      "Epoch 4/10\n",
      "20000/20000 [==============================] - 16s 807us/step - loss: 0.4679 - acc: 0.7707 - val_loss: 0.5124 - val_acc: 0.7436\n",
      "Epoch 5/10\n",
      "20000/20000 [==============================] - 16s 789us/step - loss: 0.4357 - acc: 0.7949 - val_loss: 0.5521 - val_acc: 0.7220\n",
      "Epoch 6/10\n",
      "20000/20000 [==============================] - 16s 822us/step - loss: 0.4025 - acc: 0.8121 - val_loss: 0.5243 - val_acc: 0.7356\n",
      "Epoch 7/10\n",
      "20000/20000 [==============================] - 16s 805us/step - loss: 0.3714 - acc: 0.8305 - val_loss: 0.5451 - val_acc: 0.7456\n",
      "Epoch 8/10\n",
      "20000/20000 [==============================] - 17s 833us/step - loss: 0.3411 - acc: 0.8457 - val_loss: 0.5688 - val_acc: 0.7338\n",
      "Epoch 9/10\n",
      "20000/20000 [==============================] - 16s 805us/step - loss: 0.3111 - acc: 0.8646 - val_loss: 0.6291 - val_acc: 0.7362\n",
      "Epoch 10/10\n",
      "20000/20000 [==============================] - 16s 806us/step - loss: 0.2835 - acc: 0.8789 - val_loss: 0.6226 - val_acc: 0.7328\n"
     ]
    }
   ],
   "source": [
    "modelC_L = Sequential()\n",
    "modelC_L.add(Embedding(10000, 100, input_length=maxlen))\n",
    "modelC_L.add(Conv1D(64, 4, activation='relu'))\n",
    "modelC_L.add(LSTM(32))\n",
    "modelC_L.add(Dense(1, activation='sigmoid'))\n",
    "modelC_L.summary()\n",
    "\n",
    "#load GloVe embeddings in the model\n",
    "modelC_L.layers[0].set_weights([embedding_matrix])\n",
    "modelC_L.layers[0].trainable = False #freeze layer so pre-trained parts are not updated\n",
    "\n",
    "modelC_L.compile(optimizer='rmsprop',\n",
    "              loss='binary_crossentropy',\n",
    "              metrics=['acc'])\n",
    "\n",
    "start_time = time.clock()\n",
    "historyC_L = modelC_L.fit(x_train, y_train,\n",
    "                    epochs=10,\n",
    "                    batch_size=32,\n",
    "                    validation_split=0.2)\n",
    "\n",
    "end_time = time.clock()\n",
    "runtimeC_L = end_time - start_time  # seconds of wall-clock time\n",
    "\n",
    "\n",
    "modelC_L.save_weights('Conv_LSTM_glove.h5')\n"
   ]
  },
  {
   "cell_type": "markdown",
   "metadata": {},
   "source": [
    "RNN model -  pre-trained word embeddings - glove.6B.100d.txt"
   ]
  },
  {
   "cell_type": "code",
   "execution_count": 26,
   "metadata": {},
   "outputs": [
    {
     "name": "stdout",
     "output_type": "stream",
     "text": [
      "_________________________________________________________________\n",
      "Layer (type)                 Output Shape              Param #   \n",
      "=================================================================\n",
      "embedding_12 (Embedding)     (None, 20, 100)           1000000   \n",
      "_________________________________________________________________\n",
      "simple_rnn_2 (SimpleRNN)     (None, 32)                4256      \n",
      "_________________________________________________________________\n",
      "dense_12 (Dense)             (None, 1)                 33        \n",
      "=================================================================\n",
      "Total params: 1,004,289\n",
      "Trainable params: 1,004,289\n",
      "Non-trainable params: 0\n",
      "_________________________________________________________________\n",
      "Train on 20000 samples, validate on 5000 samples\n",
      "Epoch 1/10\n",
      "20000/20000 [==============================] - 6s 313us/step - loss: 0.6547 - acc: 0.6155 - val_loss: 0.6140 - val_acc: 0.6670\n",
      "Epoch 2/10\n",
      "20000/20000 [==============================] - 5s 254us/step - loss: 0.5986 - acc: 0.6834 - val_loss: 0.5966 - val_acc: 0.6818\n",
      "Epoch 3/10\n",
      "20000/20000 [==============================] - 5s 240us/step - loss: 0.5794 - acc: 0.6970 - val_loss: 0.6583 - val_acc: 0.6376\n",
      "Epoch 4/10\n",
      "20000/20000 [==============================] - 5s 250us/step - loss: 0.5670 - acc: 0.7081 - val_loss: 0.5763 - val_acc: 0.6988\n",
      "Epoch 5/10\n",
      "20000/20000 [==============================] - 5s 252us/step - loss: 0.5571 - acc: 0.7111 - val_loss: 0.5867 - val_acc: 0.6860\n",
      "Epoch 6/10\n",
      "20000/20000 [==============================] - 5s 256us/step - loss: 0.5484 - acc: 0.7185 - val_loss: 0.5669 - val_acc: 0.6970\n",
      "Epoch 7/10\n",
      "20000/20000 [==============================] - 5s 257us/step - loss: 0.5396 - acc: 0.7258 - val_loss: 0.5604 - val_acc: 0.7096\n",
      "Epoch 8/10\n",
      "20000/20000 [==============================] - 5s 258us/step - loss: 0.5315 - acc: 0.7321 - val_loss: 0.5875 - val_acc: 0.6780\n",
      "Epoch 9/10\n",
      "20000/20000 [==============================] - 5s 259us/step - loss: 0.5256 - acc: 0.7381 - val_loss: 0.5545 - val_acc: 0.7130\n",
      "Epoch 10/10\n",
      "20000/20000 [==============================] - 5s 245us/step - loss: 0.5191 - acc: 0.7440 - val_loss: 0.5718 - val_acc: 0.7046\n"
     ]
    }
   ],
   "source": [
    "from keras.layers import SimpleRNN \n",
    "\n",
    "model_RNN = Sequential()\n",
    "model_RNN.add(Embedding(10000, 100, input_length=maxlen))\n",
    "model_RNN.add(SimpleRNN(32))\n",
    "model_RNN.add(Dense(1, activation='sigmoid'))\n",
    "model_RNN.summary()\n",
    "\n",
    "#load GloVe embeddings in the model\n",
    "model_RNN.layers[0].set_weights([embedding_matrix])\n",
    "model_RNN.layers[0].trainable = False #freeze layer so pre-trained parts are not updated\n",
    "\n",
    "model_RNN.compile(optimizer='rmsprop',\n",
    "              loss='binary_crossentropy',\n",
    "              metrics=['acc'])\n",
    "\n",
    "start_time = time.clock()\n",
    "history_RNN = model_RNN.fit(x_train, y_train,\n",
    "                    epochs=10,\n",
    "                    batch_size=32,\n",
    "                    validation_split=0.2)\n",
    "\n",
    "end_time = time.clock()\n",
    "runtime_RNN = end_time - start_time  # seconds of wall-clock time\n",
    "\n",
    "\n",
    "model_RNN.save_weights('RNN_glove.h5')\n"
   ]
  },
  {
   "cell_type": "markdown",
   "metadata": {},
   "source": [
    "Evaluate the models on the test data "
   ]
  },
  {
   "cell_type": "code",
   "execution_count": 27,
   "metadata": {},
   "outputs": [],
   "source": [
    "# tokenize the test data\n",
    "test_dir = os.path.join(imdb_dir, 'test')\n",
    "\n",
    "labels = []\n",
    "texts = []\n",
    "\n",
    "for label_type in ['neg', 'pos']:\n",
    "    dir_name = os.path.join(test_dir, label_type)\n",
    "    for fname in sorted(os.listdir(dir_name)):\n",
    "        if fname[-4:] == '.txt':\n",
    "            f = open(os.path.join(dir_name, fname),encoding='utf-8')\n",
    "            texts.append(f.read())\n",
    "            f.close()\n",
    "            if label_type == 'neg':\n",
    "                labels.append(0)\n",
    "            else:\n",
    "                labels.append(1)\n",
    "\n",
    "sequences = tokenizer.texts_to_sequences(texts)\n",
    "x_test = pad_sequences(sequences, maxlen=maxlen)\n",
    "y_test = np.asarray(labels)"
   ]
  },
  {
   "cell_type": "code",
   "execution_count": 28,
   "metadata": {
    "scrolled": true
   },
   "outputs": [
    {
     "name": "stdout",
     "output_type": "stream",
     "text": [
      "dense model Processing time (seconds): 135.121857\n",
      "25000/25000 [==============================] - 1s 32us/step\n",
      "[1.538089386138916, 0.51052]\n",
      "dense model with GLoVe Processing time (seconds): 29.484145\n",
      "25000/25000 [==============================] - 1s 58us/step\n",
      "[0.8691720735740661, 0.6564]\n",
      "Conv1D model Processing time (seconds): 192.777065\n",
      "25000/25000 [==============================] - 3s 128us/step\n",
      "[2.724991699676514, 0.51428]\n",
      "Conv1D model with GLoVe Processing time (seconds): 63.961567\n",
      "25000/25000 [==============================] - 3s 128us/step\n",
      "[0.700617410697937, 0.70264]\n",
      "RNN model Processing time (seconds): 182.355690\n",
      "25000/25000 [==============================] - 3s 133us/step\n",
      "[2.728748796005249, 0.51176]\n",
      "RNN model with GLoVe Processing time (seconds): 52.425535\n",
      "25000/25000 [==============================] - 3s 129us/step\n",
      "[0.5727651812267304, 0.70064]\n",
      "GRU model Processing time (seconds): 259.881813\n",
      "25000/25000 [==============================] - 4s 173us/step\n",
      "[1.2932699480819703, 0.5064]\n",
      "GRU model with GLoVe Processing time (seconds): 109.920721\n",
      "25000/25000 [==============================] - 5s 184us/step\n",
      "[0.5019407116031647, 0.75804]\n",
      "LSTM model Processing time (seconds): 268.392935\n",
      "25000/25000 [==============================] - 5s 204us/step\n",
      "[1.212438564453125, 0.51016]\n",
      "LSTM model with GLoVe Processing time (seconds): 129.329597\n",
      "25000/25000 [==============================] - 5s 205us/step\n",
      "[0.5054665018939972, 0.75424]\n",
      "Conv1D and LSTM model with GLoVe Processing time (seconds): 165.218499\n",
      "25000/25000 [==============================] - 6s 255us/step\n",
      "[0.6305766197609901, 0.72512]\n"
     ]
    }
   ],
   "source": [
    "model.load_weights('dense_embeddings.h5')\n",
    "print(\"dense model Processing time (seconds): %f\" % (runtime))\n",
    "print (model.evaluate(x_test, y_test))\n",
    "\n",
    "model5.load_weights('dense_glove.h5')\n",
    "print(\"dense model with GLoVe Processing time (seconds): %f\" % (runtime5))\n",
    "print (model5.evaluate(x_test, y_test))\n",
    "\n",
    "model2.load_weights('Conv1D_embeddings.h5')\n",
    "print(\"Conv1D model Processing time (seconds): %f\" % (runtime2))\n",
    "print (model2.evaluate(x_test, y_test))\n",
    "\n",
    "model6.load_weights('Conv1D_glove.h5')\n",
    "print(\"Conv1D model with GLoVe Processing time (seconds): %f\" % (runtime6))\n",
    "print (model6.evaluate(x_test, y_test))\n",
    "\n",
    "model14.load_weights('RNN_embeddings.h5')\n",
    "print(\"RNN model Processing time (seconds): %f\" % (runtime14))\n",
    "print (model14.evaluate(x_test, y_test))\n",
    "\n",
    "model_RNN.load_weights('RNN_glove.h5')\n",
    "print(\"RNN model with GLoVe Processing time (seconds): %f\" % (runtime_RNN))\n",
    "print (model_RNN.evaluate(x_test, y_test))\n",
    "\n",
    "model3.load_weights('GRU_embeddings.h5')\n",
    "print(\"GRU model Processing time (seconds): %f\" % (runtime3))\n",
    "print (model3.evaluate(x_test, y_test))\n",
    "\n",
    "model7.load_weights('GRU_glove.h5')\n",
    "print(\"GRU model with GLoVe Processing time (seconds): %f\" % (runtime7))\n",
    "print (model7.evaluate(x_test, y_test))\n",
    "\n",
    "model4.load_weights('LSTM_embeddings.h5')\n",
    "print(\"LSTM model Processing time (seconds): %f\" % (runtime4))\n",
    "print (model4.evaluate(x_test, y_test))\n",
    "\n",
    "model8.load_weights('LSTM_glove.h5')\n",
    "print(\"LSTM model with GLoVe Processing time (seconds): %f\" % (runtime8))\n",
    "print (model8.evaluate(x_test, y_test))\n",
    "\n",
    "modelC_L.load_weights('Conv_LSTM_glove.h5')\n",
    "print(\"Conv1D and LSTM model with GLoVe Processing time (seconds): %f\" % (runtimeC_L))\n",
    "print (modelC_L.evaluate(x_test, y_test))\n",
    "\n"
   ]
  },
  {
   "cell_type": "code",
   "execution_count": null,
   "metadata": {},
   "outputs": [],
   "source": []
  }
 ],
 "metadata": {
  "kernelspec": {
   "display_name": "Python 2",
   "language": "python",
   "name": "python2"
  },
  "language_info": {
   "codemirror_mode": {
    "name": "ipython",
    "version": 2
   },
   "file_extension": ".py",
   "mimetype": "text/x-python",
   "name": "python",
   "nbconvert_exporter": "python",
   "pygments_lexer": "ipython2",
   "version": "2.7.16"
  }
 },
 "nbformat": 4,
 "nbformat_minor": 2
}
