{
 "cells": [
  {
   "cell_type": "markdown",
   "metadata": {},
   "source": [
    "In this project, I will assume that I need to provide advice to a website provider who is looking for tools to automatically label images provided by end users. Recommendations to management about image classification will maximize accuracy over processing time. \n",
    "\n",
    "To determine a recommendation, I will use 1000 images of cats and 1000 images of dogs at two resolutions (64x64) and (128x128). This will be the basis to employ a 2x2 factorial design with resolution and color/grayscale as the two experimental factors. To keep this simple, I will not modify elements of the models (e.g. layers, filters, etc.), but keep everything constant as to not confound the experient. The results seen below will reveal that simple images (low resolution and grayscale) work better for the model.\n"
   ]
  },
  {
   "cell_type": "code",
   "execution_count": 1,
   "metadata": {},
   "outputs": [
    {
     "name": "stderr",
     "output_type": "stream",
     "text": [
      "Using TensorFlow backend.\n"
     ]
    }
   ],
   "source": [
    "# starting with code from run-cats-dogs-jump-start-dnn-v002.py\n",
    "# To support both python 2 and python 3\n",
    "from __future__ import division, print_function, unicode_literals\n",
    "\n",
    "# set-up needed modules\n",
    "import os, random\n",
    "import numpy as np\n",
    "import time\n",
    "import tensorflow as tf\n",
    "from sklearn.model_selection import train_test_split\n",
    "from sklearn.metrics import f1_score, accuracy_score\n",
    "from sklearn.metrics import confusion_matrix \n",
    "from matplotlib import pyplot as plt \n",
    "import seaborn as sns\n",
    "from keras.models import Sequential\n",
    "from keras.layers import Conv2D, MaxPooling2D\n",
    "from keras.layers import Activation, Dropout, Flatten, Dense\n",
    "from keras.callbacks import EarlyStopping\n",
    "\n",
    "RANDOM_SEED = 9999\n",
    "\n",
    "# To make output stable across runs\n",
    "def reset_graph(seed= RANDOM_SEED):\n",
    "    tf.reset_default_graph()\n",
    "    tf.set_random_seed(seed)\n",
    "    np.random.seed(seed)\n",
    "\n",
    "#CatsDogs Old dimensions\n",
    "height = 64\n",
    "width = 64   \n",
    "    \n",
    "\n",
    "# Read in cats and dogs files to create training data\n",
    "# used the output from run-cats-dogs-data-prep-v001.py\n",
    "cats_1000_64_64_1 = np.load('cats_dogs_64-128/cats_1000_64_64_1.npy')\n",
    "dogs_1000_64_64_1 = np.load('cats_dogs_64-128/dogs_1000_64_64_1.npy')\n",
    "\n",
    "cats_1000_64_64_3 = np.load('cats_dogs_64-128/cats_1000_64_64_3.npy')\n",
    "dogs_1000_64_64_3 = np.load('cats_dogs_64-128/dogs_1000_64_64_3.npy')\n",
    "\n",
    "cats_1000_128_128_1 = np.load('cats_dogs_64-128/cats_1000_128_128_1.npy')\n",
    "dogs_1000_128_128_1 = np.load('cats_dogs_64-128/dogs_1000_128_128_1.npy')\n",
    "\n",
    "cats_1000_128_128_3 = np.load('cats_dogs_64-128/cats_1000_128_128_3.npy')\n",
    "dogs_1000_128_128_3 = np.load('cats_dogs_64-128/dogs_1000_128_128_3.npy')\n"
   ]
  },
  {
   "cell_type": "code",
   "execution_count": 2,
   "metadata": {},
   "outputs": [
    {
     "data": {
      "text/plain": [
       "(1000, 128, 128, 3)"
      ]
     },
     "execution_count": 2,
     "metadata": {},
     "output_type": "execute_result"
    }
   ],
   "source": [
    "#review shaoes of the loaded data\n",
    "dogs_1000_128_128_3.shape"
   ]
  },
  {
   "cell_type": "code",
   "execution_count": null,
   "metadata": {},
   "outputs": [],
   "source": [
    "#get an idea of the images were dealing with\n",
    "def show_grayscale_image(image):\n",
    "    plt.imshow(image, cmap='gray')\n",
    "    plt.axis('off')\n",
    "    plt.show()\n",
    "# Examine first cat and first dog grayscale images\n",
    "show_grayscale_image(cats_1000_64_64_1[0,:,:,0])\n",
    "show_grayscale_image(dogs_1000_64_64_1[0,:,:,0])\n",
    "\n",
    "show_grayscale_image(cats_1000_64_64_3[0,:,:,0])\n",
    "show_grayscale_image(dogs_1000_64_64_3[0,:,:,0])\n",
    "\n",
    "show_grayscale_image(cats_1000_128_128_1[0,:,:,0])\n",
    "show_grayscale_image(dogs_1000_128_128_1[0,:,:,0])\n",
    "\n",
    "show_grayscale_image(cats_1000_128_128_3[0,:,:,0])\n",
    "show_grayscale_image(dogs_1000_128_128_3[0,:,:,0])"
   ]
  },
  {
   "cell_type": "markdown",
   "metadata": {},
   "source": [
    "Ran cell, but deleted results to save space."
   ]
  },
  {
   "cell_type": "code",
   "execution_count": 4,
   "metadata": {},
   "outputs": [],
   "source": [
    "# bring the cats and dogs together\n",
    "# Stack the numpy arrays for the inputs\n",
    "X_cat_dog64_1 = np.concatenate((cats_1000_64_64_1, dogs_1000_64_64_1), axis = 0) \n",
    "\n",
    "X_cat_dog64_3 = np.concatenate((cats_1000_64_64_3, dogs_1000_64_64_3), axis = 0) \n",
    "\n",
    "X_cat_dog128_1 = np.concatenate((cats_1000_128_128_1, dogs_1000_128_128_1), axis = 0) \n",
    "\n",
    "X_cat_dog128_3 = np.concatenate((cats_1000_128_128_3, dogs_1000_128_128_3), axis = 0) \n"
   ]
  },
  {
   "cell_type": "code",
   "execution_count": 5,
   "metadata": {},
   "outputs": [
    {
     "data": {
      "text/plain": [
       "(2000, 128, 128, 3)"
      ]
     },
     "execution_count": 5,
     "metadata": {},
     "output_type": "execute_result"
    }
   ],
   "source": [
    "#Check to see the arrays have been brought together\n",
    "X_cat_dog64_1.shape\n",
    "X_cat_dog64_3.shape\n",
    "X_cat_dog128_1.shape\n",
    "X_cat_dog128_3.shape"
   ]
  },
  {
   "cell_type": "code",
   "execution_count": null,
   "metadata": {},
   "outputs": [],
   "source": [
    "# select ome cat and one dog image randomly to ensure\n",
    "# data is brought together\n",
    "show_grayscale_image(X_cat_dog64_1[900,:,:,0])\n",
    "show_grayscale_image(X_cat_dog64_1[1104,:,:,0])"
   ]
  },
  {
   "cell_type": "markdown",
   "metadata": {},
   "source": [
    "Ran cell, but deleted results to save space."
   ]
  },
  {
   "cell_type": "code",
   "execution_count": 7,
   "metadata": {},
   "outputs": [],
   "source": [
    "# Define the labels to be used 1000 cats = 0 1000 dogs = 1\n",
    "y_cat_dog64_1 = np.concatenate((np.zeros((1000), dtype = np.int32), \n",
    "                      np.ones((1000), dtype = np.int32)), axis = 0)\n",
    "\n",
    "y_cat_dog64_3 = np.concatenate((np.zeros((1000), dtype = np.int32), \n",
    "                      np.ones((1000), dtype = np.int32)), axis = 0)\n",
    "\n",
    "y_cat_dog128_1 = np.concatenate((np.zeros((1000), dtype = np.int32), \n",
    "                      np.ones((1000), dtype = np.int32)), axis = 0)\n",
    "\n",
    "y_cat_dog128_3 = np.concatenate((np.zeros((1000), dtype = np.int32), \n",
    "                      np.ones((1000), dtype = np.int32)), axis = 0)\n"
   ]
  },
  {
   "cell_type": "code",
   "execution_count": 8,
   "metadata": {},
   "outputs": [],
   "source": [
    "#normalize the data\n",
    "X_cat_dog64_1 *= 255.0/X_cat_dog64_1.max() \n",
    "X_cat_dog64_3 *= 255.0/X_cat_dog64_3.max() \n",
    "X_cat_dog128_1 *= 255.0/X_cat_dog128_1.max() \n",
    "X_cat_dog128_3 *= 255.0/X_cat_dog128_3.max() "
   ]
  },
  {
   "cell_type": "code",
   "execution_count": 9,
   "metadata": {},
   "outputs": [],
   "source": [
    "# Random splitting of the data in to training (80%) and test (20%)  \n",
    "X_train64_1, X_test64_1, y_train64_1, y_test64_1 = \\\n",
    "    train_test_split(X_cat_dog64_1, y_cat_dog64_1, test_size=0.20, \n",
    "                     random_state = RANDOM_SEED)\n"
   ]
  },
  {
   "cell_type": "code",
   "execution_count": 10,
   "metadata": {},
   "outputs": [],
   "source": [
    "#train, val, test set will be 60%, 20%, 20% of the dataset respectively  \n",
    "X_train64_1, X_val64_1, y_train64_1, y_val64_1 = \\\n",
    "    train_test_split(X_train64_1, y_train64_1, test_size=0.25, \n",
    "                     random_state = RANDOM_SEED)"
   ]
  },
  {
   "cell_type": "code",
   "execution_count": 11,
   "metadata": {},
   "outputs": [
    {
     "data": {
      "text/plain": [
       "(400, 64, 64, 1)"
      ]
     },
     "execution_count": 11,
     "metadata": {},
     "output_type": "execute_result"
    }
   ],
   "source": [
    "X_test64_1.shape"
   ]
  },
  {
   "cell_type": "markdown",
   "metadata": {},
   "source": [
    "Run CNN for (64x64) grayscale photos (1 channels)"
   ]
  },
  {
   "cell_type": "code",
   "execution_count": 12,
   "metadata": {},
   "outputs": [],
   "source": [
    "# Stop training when val_loss stops improving\n",
    "early_stopping = EarlyStopping(monitor='val_loss', patience=5, verbose=1, mode='auto')"
   ]
  },
  {
   "cell_type": "code",
   "execution_count": 13,
   "metadata": {},
   "outputs": [],
   "source": [
    "# stack of 3 convolution layers with a ReLU activation\n",
    "# followed by max-pooling layers\n",
    "model64_1 = Sequential()\n",
    "# 1: Convolution layer with 32 filters, each 3x3x3\n",
    "model64_1.add(Conv2D(34, (3, 3), input_shape=(64, 64, 1)))\n",
    "model64_1.add(Activation('relu'))\n",
    "model64_1.add(MaxPooling2D(pool_size=(2, 2)))\n",
    "# 2: Convolution layer with 32 filters, each 3x3x3\n",
    "model64_1.add(Conv2D(34, (3, 3)))\n",
    "model64_1.add(Activation('relu'))\n",
    "model64_1.add(MaxPooling2D(pool_size=(2, 2)))\n",
    "# 3: Convolution layer with 64 filters, each 3x3x3\n",
    "model64_1.add(Conv2D(64, (3, 3)))\n",
    "model64_1.add(Activation('relu'))\n",
    "model64_1.add(MaxPooling2D(pool_size=(2, 2)))\n",
    "\n",
    "# add two fully-connected layers\n",
    "# sigmoid activation for a binary classification\n",
    "# binary_crossentropy loss to train model.\n",
    "\n",
    "model64_1.add(Flatten()) \n",
    "model64_1.add(Dense(64))\n",
    "model64_1.add(Activation('relu'))\n",
    "model64_1.add(Dropout(0.5))\n",
    "model64_1.add(Dense(1))\n",
    "model64_1.add(Activation('sigmoid'))\n",
    "\n",
    "model64_1.compile(loss='binary_crossentropy',\n",
    "              optimizer='rmsprop',\n",
    "              metrics=['accuracy'])"
   ]
  },
  {
   "cell_type": "code",
   "execution_count": 14,
   "metadata": {
    "scrolled": true
   },
   "outputs": [
    {
     "name": "stdout",
     "output_type": "stream",
     "text": [
      "Train on 1200 samples, validate on 400 samples\n",
      "Epoch 1/25\n",
      "1200/1200 [==============================] - 16s 13ms/step - loss: 6.3981 - acc: 0.5233 - val_loss: 7.3328 - val_acc: 0.4950\n",
      "Epoch 2/25\n",
      "1200/1200 [==============================] - 15s 12ms/step - loss: 1.3873 - acc: 0.5075 - val_loss: 0.7272 - val_acc: 0.5225\n",
      "Epoch 3/25\n",
      "1200/1200 [==============================] - 15s 13ms/step - loss: 0.6965 - acc: 0.5392 - val_loss: 0.6915 - val_acc: 0.5375\n",
      "Epoch 4/25\n",
      "1200/1200 [==============================] - 15s 13ms/step - loss: 0.6977 - acc: 0.5825 - val_loss: 0.7201 - val_acc: 0.5250\n",
      "Epoch 5/25\n",
      "1200/1200 [==============================] - 8s 7ms/step - loss: 0.7073 - acc: 0.5575 - val_loss: 0.7168 - val_acc: 0.5025\n",
      "Epoch 6/25\n",
      "1200/1200 [==============================] - 13s 11ms/step - loss: 0.6830 - acc: 0.5758 - val_loss: 0.6877 - val_acc: 0.6075\n",
      "Epoch 7/25\n",
      "1200/1200 [==============================] - 15s 12ms/step - loss: 0.6497 - acc: 0.6108 - val_loss: 0.7003 - val_acc: 0.5650\n",
      "Epoch 8/25\n",
      "1200/1200 [==============================] - 15s 12ms/step - loss: 0.7778 - acc: 0.6067 - val_loss: 0.7613 - val_acc: 0.5650\n",
      "Epoch 9/25\n",
      "1200/1200 [==============================] - 15s 12ms/step - loss: 0.6430 - acc: 0.6183 - val_loss: 0.7028 - val_acc: 0.5550\n",
      "Epoch 10/25\n",
      "1200/1200 [==============================] - 15s 13ms/step - loss: 0.6214 - acc: 0.6375 - val_loss: 0.7089 - val_acc: 0.5925\n",
      "Epoch 11/25\n",
      "1200/1200 [==============================] - 15s 12ms/step - loss: 0.6029 - acc: 0.6567 - val_loss: 0.7787 - val_acc: 0.5750\n",
      "Epoch 00011: early stopping\n"
     ]
    }
   ],
   "source": [
    "start_time64_1 = time.clock()\n",
    "trained_model64_1 = model64_1.fit(X_train64_1, y_train64_1, epochs=25, \n",
    "                                  batch_size=100,validation_data= (X_val64_1,y_val64_1),\n",
    "                                  callbacks= [early_stopping])\n",
    "end_time64_1 = time.clock()\n",
    "runtime64_1 = end_time64_1 - start_time64_1"
   ]
  },
  {
   "cell_type": "code",
   "execution_count": 59,
   "metadata": {},
   "outputs": [
    {
     "data": {
      "text/plain": [
       "(0.6176470588235293, 61.0)"
      ]
     },
     "execution_count": 59,
     "metadata": {},
     "output_type": "execute_result"
    }
   ],
   "source": [
    "#make predictions on test data and assess accuracy\n",
    "#get F1 score\n",
    "prediction64_1 = model64_1.predict(X_test64_1)\n",
    "f164_1 = f1_score(y_test64_1, prediction64_1 > 0.5)\n",
    "acc64_1 = accuracy_score(y_test64_1, prediction64_1 > 0.5)\n",
    "acc64_1 = (acc64_1*100)\n",
    "(f164_1, acc64_1)"
   ]
  },
  {
   "cell_type": "markdown",
   "metadata": {},
   "source": [
    "Re-run process for (64x64) color photos (3 channels)\n"
   ]
  },
  {
   "cell_type": "code",
   "execution_count": 16,
   "metadata": {},
   "outputs": [],
   "source": [
    "# Random splitting of the data in to training (80%) and test (20%)  \n",
    "X_train64_3, X_test64_3, y_train64_3, y_test64_3 = \\\n",
    "    train_test_split(X_cat_dog64_3, y_cat_dog64_3, test_size=0.20, \n",
    "                     random_state = RANDOM_SEED)\n"
   ]
  },
  {
   "cell_type": "code",
   "execution_count": 17,
   "metadata": {},
   "outputs": [],
   "source": [
    "#train, validation, test set will be 60%, 20%, 20% of the dataset respectively \n",
    "X_train64_3, X_val64_3, y_train64_3, y_val64_3 = \\\n",
    "    train_test_split(X_train64_3, y_train64_3, test_size=0.25, \n",
    "                     random_state = RANDOM_SEED)"
   ]
  },
  {
   "cell_type": "code",
   "execution_count": 18,
   "metadata": {},
   "outputs": [],
   "source": [
    "# stack of 3 convolution layers with a ReLU activation\n",
    "# followed by max-pooling layers\n",
    "model64_3 = Sequential()\n",
    "# 1: Convolution layer with 32 filters, each 3x3x3\n",
    "model64_3.add(Conv2D(32, (3, 3), input_shape=(64, 64, 3)))\n",
    "model64_3.add(Activation('relu'))\n",
    "model64_3.add(MaxPooling2D(pool_size=(2, 2)))\n",
    "# 2: Convolution layer with 32 filters, each 3x3x3\n",
    "model64_3.add(Conv2D(32, (3, 3)))\n",
    "model64_3.add(Activation('relu'))\n",
    "model64_3.add(MaxPooling2D(pool_size=(2, 2)))\n",
    "# 1: Convolution layer with 64 filters, each 3x3x3\n",
    "model64_3.add(Conv2D(64, (3, 3)))\n",
    "model64_3.add(Activation('relu'))\n",
    "model64_3.add(MaxPooling2D(pool_size=(2, 2)))\n",
    "\n",
    "# add two fully-connected layers\n",
    "# sigmoid activation for a binary classification\n",
    "# binary_crossentropy loss to train model\n",
    "\n",
    "model64_3.add(Flatten())\n",
    "model64_3.add(Dense(64))\n",
    "model64_3.add(Activation('relu'))\n",
    "model64_3.add(Dropout(0.5))\n",
    "model64_3.add(Dense(1))\n",
    "model64_3.add(Activation('sigmoid'))\n",
    "\n",
    "model64_3.compile(loss='binary_crossentropy',\n",
    "              optimizer='rmsprop',\n",
    "              metrics=['accuracy'])"
   ]
  },
  {
   "cell_type": "code",
   "execution_count": 19,
   "metadata": {},
   "outputs": [
    {
     "name": "stdout",
     "output_type": "stream",
     "text": [
      "Train on 1200 samples, validate on 400 samples\n",
      "Epoch 1/25\n",
      "1200/1200 [==============================] - 15s 12ms/step - loss: 7.2494 - acc: 0.5000 - val_loss: 8.1396 - val_acc: 0.4950\n",
      "Epoch 2/25\n",
      "1200/1200 [==============================] - 15s 12ms/step - loss: 2.6286 - acc: 0.5325 - val_loss: 0.6978 - val_acc: 0.5350\n",
      "Epoch 3/25\n",
      "1200/1200 [==============================] - 14s 12ms/step - loss: 0.6993 - acc: 0.5608 - val_loss: 0.6784 - val_acc: 0.5925\n",
      "Epoch 4/25\n",
      "1200/1200 [==============================] - 14s 12ms/step - loss: 0.6710 - acc: 0.5917 - val_loss: 0.7098 - val_acc: 0.5175\n",
      "Epoch 5/25\n",
      "1200/1200 [==============================] - 14s 11ms/step - loss: 0.6638 - acc: 0.6183 - val_loss: 0.6725 - val_acc: 0.6150\n",
      "Epoch 6/25\n",
      "1200/1200 [==============================] - 14s 11ms/step - loss: 0.6673 - acc: 0.5908 - val_loss: 0.7111 - val_acc: 0.5750\n",
      "Epoch 7/25\n",
      "1200/1200 [==============================] - 14s 11ms/step - loss: 0.6650 - acc: 0.6108 - val_loss: 0.7912 - val_acc: 0.5450\n",
      "Epoch 8/25\n",
      "1200/1200 [==============================] - 14s 12ms/step - loss: 0.6869 - acc: 0.6225 - val_loss: 0.7661 - val_acc: 0.5350\n",
      "Epoch 9/25\n",
      "1200/1200 [==============================] - 14s 12ms/step - loss: 0.6286 - acc: 0.6517 - val_loss: 0.7125 - val_acc: 0.5525\n",
      "Epoch 10/25\n",
      "1200/1200 [==============================] - 14s 12ms/step - loss: 0.6522 - acc: 0.6600 - val_loss: 0.6986 - val_acc: 0.5950\n",
      "Epoch 00010: early stopping\n"
     ]
    }
   ],
   "source": [
    "#measure the processing time\n",
    "start_time64_3 = time.clock()\n",
    "trained_model64_3 = model64_3.fit(X_train64_3, y_train64_3, epochs=25, \n",
    "                                  batch_size=100,validation_data= (X_val64_3,y_val64_3),\n",
    "                                  callbacks= [early_stopping])\n",
    "end_time64_3 = time.clock()\n",
    "runtime64_3 = end_time64_3 - start_time64_3"
   ]
  },
  {
   "cell_type": "code",
   "execution_count": 47,
   "metadata": {},
   "outputs": [],
   "source": [
    "#make predictions on test data and assess accuracy\n",
    "prediction64_3 = model64_3.predict(X_test64_3)\n",
    "acc64_3 = accuracy_score(y_test64_3, prediction64_3 > 0.5)\n",
    "acc64_3 = (acc64_3 *100)"
   ]
  },
  {
   "cell_type": "markdown",
   "metadata": {},
   "source": [
    "Re-run process for (128x128) grayscale photos (1 channel)\n"
   ]
  },
  {
   "cell_type": "code",
   "execution_count": 21,
   "metadata": {},
   "outputs": [],
   "source": [
    "# Random splitting of the data in to training (80%) and test (20%)  \n",
    "X_train128_1, X_test128_1, y_train128_1, y_test128_1 = \\\n",
    "    train_test_split(X_cat_dog128_1, y_cat_dog128_1, test_size=0.20, \n",
    "                     random_state = RANDOM_SEED)\n"
   ]
  },
  {
   "cell_type": "code",
   "execution_count": 22,
   "metadata": {},
   "outputs": [],
   "source": [
    "#train, val, test set will be 60%, 20%, 20% of the dataset respectively \n",
    "X_train128_1, X_val128_1, y_train128_1, y_val128_1 = \\\n",
    "    train_test_split(X_train128_1, y_train128_1, test_size=0.25, \n",
    "                     random_state = RANDOM_SEED)"
   ]
  },
  {
   "cell_type": "code",
   "execution_count": 23,
   "metadata": {},
   "outputs": [],
   "source": [
    "model128_1 = Sequential()\n",
    "\n",
    "# stack of 3 convolution layers with a ReLU activation\n",
    "# followed by max-pooling layers\n",
    "\n",
    "# 1: Convolution layer with 32 filters, each 3x3x3\n",
    "model128_1.add(Conv2D(32, (3, 3), input_shape=(128, 128, 1)))\n",
    "model128_1.add(Activation('relu'))\n",
    "model128_1.add(MaxPooling2D(pool_size=(2, 2)))\n",
    "\n",
    "# 2: Convolution layer with 32 filters, each 3x3x3\n",
    "model128_1.add(Conv2D(32, (3, 3)))\n",
    "model128_1.add(Activation('relu'))\n",
    "model128_1.add(MaxPooling2D(pool_size=(2, 2)))\n",
    "\n",
    "# 3: Convolution layer with 64 filters, each 3x3x3\n",
    "model128_1.add(Conv2D(64, (3, 3)))\n",
    "model128_1.add(Activation('relu'))\n",
    "model128_1.add(MaxPooling2D(pool_size=(2, 2)))\n",
    "\n",
    "# add two fully-connected layers\n",
    "# sigmoid activation for a binary classification\n",
    "# binary_crossentropy loss to train model\n",
    "\n",
    "model128_1.add(Flatten()) \n",
    "model128_1.add(Dense(64))\n",
    "model128_1.add(Activation('relu'))\n",
    "model128_1.add(Dropout(0.5))\n",
    "model128_1.add(Dense(1))\n",
    "model128_1.add(Activation('sigmoid'))\n",
    "\n",
    "model128_1.compile(loss='binary_crossentropy',\n",
    "              optimizer='rmsprop',\n",
    "              metrics=['accuracy'])"
   ]
  },
  {
   "cell_type": "code",
   "execution_count": 24,
   "metadata": {},
   "outputs": [
    {
     "name": "stdout",
     "output_type": "stream",
     "text": [
      "Train on 1200 samples, validate on 400 samples\n",
      "Epoch 1/25\n",
      "1200/1200 [==============================] - 54s 45ms/step - loss: 8.0738 - acc: 0.4883 - val_loss: 7.8915 - val_acc: 0.5050\n",
      "Epoch 2/25\n",
      "1200/1200 [==============================] - 51s 42ms/step - loss: 7.8915 - acc: 0.5050 - val_loss: 7.8915 - val_acc: 0.5050\n",
      "Epoch 3/25\n",
      "1200/1200 [==============================] - 51s 43ms/step - loss: 7.8915 - acc: 0.5050 - val_loss: 7.8915 - val_acc: 0.5050\n",
      "Epoch 4/25\n",
      "1200/1200 [==============================] - 50s 42ms/step - loss: 7.8915 - acc: 0.5050 - val_loss: 7.8915 - val_acc: 0.5050\n",
      "Epoch 5/25\n",
      "1200/1200 [==============================] - 51s 42ms/step - loss: 7.8915 - acc: 0.5050 - val_loss: 7.8915 - val_acc: 0.5050\n",
      "Epoch 6/25\n",
      "1200/1200 [==============================] - 52s 43ms/step - loss: 7.7989 - acc: 0.5108 - val_loss: 7.8915 - val_acc: 0.5050\n",
      "Epoch 00006: early stopping\n"
     ]
    }
   ],
   "source": [
    "#measure the processing time\n",
    "start_time128_1 = time.clock()\n",
    "trained_model128_1 = model128_1.fit(X_train128_1, y_train128_1, epochs=25, \n",
    "                                  batch_size=100,validation_data= (X_val128_1,y_val128_1),\n",
    "                                   callbacks= [early_stopping])\n",
    "end_time128_1 = time.clock()\n",
    "runtime128_1 = end_time128_1 - start_time128_1"
   ]
  },
  {
   "cell_type": "code",
   "execution_count": 49,
   "metadata": {},
   "outputs": [],
   "source": [
    "#make predictions on test data and assess accuracy\n",
    "prediction128_1 = model128_1.predict(X_test128_1)\n",
    "acc128_1 = accuracy_score(y_test128_1, prediction128_1 > 0.5)\n",
    "acc128_1 = (acc128_1 *100)"
   ]
  },
  {
   "cell_type": "markdown",
   "metadata": {},
   "source": [
    "Re-run process for (128x128) color photos (3 channels)\n"
   ]
  },
  {
   "cell_type": "code",
   "execution_count": 26,
   "metadata": {},
   "outputs": [],
   "source": [
    "# Random splitting of the data in to training (80%) and test (20%)  \n",
    "X_train128_3, X_test128_3, y_train128_3, y_test128_3 = \\\n",
    "    train_test_split(X_cat_dog128_3, y_cat_dog128_3, test_size=0.20, \n",
    "                     random_state = RANDOM_SEED)\n"
   ]
  },
  {
   "cell_type": "code",
   "execution_count": 27,
   "metadata": {},
   "outputs": [],
   "source": [
    "#train, val, test set will be 60%, 20%, 20% of the dataset respectively  \n",
    "X_train128_3, X_val128_3, y_train128_3, y_val128_3 = \\\n",
    "    train_test_split(X_train128_3, y_train128_3, test_size=0.25, \n",
    "                     random_state = RANDOM_SEED)"
   ]
  },
  {
   "cell_type": "code",
   "execution_count": 28,
   "metadata": {},
   "outputs": [],
   "source": [
    "# stack of 3 convolution layers with a ReLU activation\n",
    "# followed by max-pooling layers\n",
    "model128_3 = Sequential()\n",
    "# 1: Convolution layer with 32 filters, each 3x3x3\n",
    "model128_3.add(Conv2D(32, (3, 3), input_shape=(128, 128, 3)))\n",
    "model128_3.add(Activation('relu'))\n",
    "model128_3.add(MaxPooling2D(pool_size=(2, 2)))\n",
    "# 2: Convolution layer with 32 filters, each 3x3x3\n",
    "model128_3.add(Conv2D(32, (3, 3)))\n",
    "model128_3.add(Activation('relu'))\n",
    "model128_3.add(MaxPooling2D(pool_size=(2, 2)))\n",
    "# 3: Convolution layer with 64 filters, each 3x3x3\n",
    "model128_3.add(Conv2D(64, (3, 3)))\n",
    "model128_3.add(Activation('relu'))\n",
    "model128_3.add(MaxPooling2D(pool_size=(2, 2)))\n",
    "\n",
    "# add two fully-connected layers\n",
    "# sigmoid activation for a binary classification\n",
    "# binary_crossentropy loss to train model\n",
    "\n",
    "model128_3.add(Flatten()) \n",
    "model128_3.add(Dense(64))\n",
    "model128_3.add(Activation('relu'))\n",
    "model128_3.add(Dropout(0.5))\n",
    "model128_3.add(Dense(1))\n",
    "model128_3.add(Activation('sigmoid'))\n",
    "\n",
    "model128_3.compile(loss='binary_crossentropy',\n",
    "              optimizer='rmsprop',\n",
    "              metrics=['accuracy'])"
   ]
  },
  {
   "cell_type": "code",
   "execution_count": 29,
   "metadata": {},
   "outputs": [
    {
     "name": "stdout",
     "output_type": "stream",
     "text": [
      "Train on 1200 samples, validate on 400 samples\n",
      "Epoch 1/25\n",
      "1200/1200 [==============================] - 61s 51ms/step - loss: 7.9841 - acc: 0.5000 - val_loss: 8.1396 - val_acc: 0.4950\n",
      "Epoch 2/25\n",
      "1200/1200 [==============================] - 61s 51ms/step - loss: 8.1396 - acc: 0.4950 - val_loss: 8.1396 - val_acc: 0.4950\n",
      "Epoch 3/25\n",
      "1200/1200 [==============================] - 59s 49ms/step - loss: 8.1396 - acc: 0.4950 - val_loss: 8.1396 - val_acc: 0.4950\n",
      "Epoch 4/25\n",
      "1200/1200 [==============================] - 61s 51ms/step - loss: 8.1396 - acc: 0.4950 - val_loss: 8.1396 - val_acc: 0.4950\n",
      "Epoch 5/25\n",
      "1200/1200 [==============================] - 60s 50ms/step - loss: 8.1396 - acc: 0.4950 - val_loss: 8.1396 - val_acc: 0.4950\n",
      "Epoch 6/25\n",
      "1200/1200 [==============================] - 62s 52ms/step - loss: 8.1396 - acc: 0.4950 - val_loss: 8.1396 - val_acc: 0.4950\n",
      "Epoch 00006: early stopping\n"
     ]
    }
   ],
   "source": [
    "#measure the processing time\n",
    "start_time128_3 = time.clock()\n",
    "trained_model128_3 = model128_3.fit(X_train128_3, y_train128_3, epochs=25, \n",
    "                                  batch_size=100,validation_data= (X_val128_3,y_val128_3), \n",
    "                                callbacks= [early_stopping])\n",
    "end_time128_3 = time.clock()\n",
    "runtime128_3 = end_time128_3 - start_time128_3"
   ]
  },
  {
   "cell_type": "code",
   "execution_count": 50,
   "metadata": {},
   "outputs": [],
   "source": [
    "#make predictions on test data and assess accuracy\n",
    "prediction128_3 = model128_3.predict(X_test128_3)\n",
    "acc128_3 = accuracy_score(y_test128_3, prediction128_3)\n",
    "acc128_3 = (acc128_3 *100)"
   ]
  },
  {
   "cell_type": "code",
   "execution_count": 61,
   "metadata": {},
   "outputs": [
    {
     "name": "stdout",
     "output_type": "stream",
     "text": [
      "\n",
      "64x64 grayscale Processing time (seconds): 157.484248\n",
      "\n",
      "64x64 color Processing time (seconds): 141.059158\n",
      "\n",
      "128x128 grayscale Processing time (seconds): 309.712366\n",
      "\n",
      "128x128 color Processing time (seconds): 364.464930\n",
      "\n",
      "64x64 grayscale Test Accuracy: 61%\n",
      "\n",
      "64x64 color Test Accuracy: 60%\n",
      "\n",
      "128x128 grayscale Test Accuracy: 48%\n",
      "\n",
      "128x128 color Test Accuracy: 52%\n"
     ]
    }
   ],
   "source": [
    "print (\"\\n64x64 grayscale Processing time (seconds): %f\" % runtime64_1)\n",
    "print (\"\\n64x64 color Processing time (seconds): %f\" % runtime64_3)\n",
    "print (\"\\n128x128 grayscale Processing time (seconds): %f\" % runtime128_1)\n",
    "print (\"\\n128x128 color Processing time (seconds): %f\" % runtime128_3)\n",
    "print (\"\\n64x64 grayscale Test Accuracy: %1.f%%\" % acc64_1)\n",
    "print (\"\\n64x64 color Test Accuracy: %1.f%%\" % acc64_3)\n",
    "print (\"\\n128x128 grayscale Test Accuracy: %1.f%%\" % acc128_1)\n",
    "print (\"\\n128x128 color Test Accuracy: %1.f%%\" % acc128_3)"
   ]
  },
  {
   "cell_type": "markdown",
   "metadata": {},
   "source": []
  },
  {
   "attachments": {
    "image.png": {
     "image/png": "[encoded data removed]"
    }
   },
   "cell_type": "markdown",
   "metadata": {},
   "source": [
    "\n",
    "\n",
    "A summary table for the 2x2 experiment is seen below. The same CNN was leveraged for each experiment with the only changes occuring between resolution and color/grayscale so we can know what elements are impacting accuracy. The CNN inlcudes a stack of 3 convolution layers (2 with 32 filters and 1 with 64 filters) with a ReLU activation, followed by max-pooling layers.  It also includes 2 fully-connected layers with sigmoid activation for a binary classification and binary_crossentropy loss to train the model.\n",
    "\n",
    "![image.png](attachment:image.png)\n",
    "\n",
    "For this convolutional neural network, simple images work best. The team should not necessarily be stressed about needing high resolution, color images from user submissions to run a model, as this model works best with (64x64) grayscale images. If users do choose to submit (64x64) color photos, the model will predict similarly as accuracy does not really drop (61% accurate with grayscale images vs. 60% accurate with color images). This model also is pretty efficient, taking less time to run than other models leveraging higher resoltion images. "
   ]
  },
  {
   "cell_type": "code",
   "execution_count": 43,
   "metadata": {},
   "outputs": [],
   "source": [
    "#make predictions binary: \n",
    "# cats = 0 dogs = 1\n",
    "prediction64_1[prediction64_1 > 0.5] = 1\n",
    "prediction64_1[prediction64_1 <= 0.5] = 0"
   ]
  },
  {
   "cell_type": "code",
   "execution_count": 44,
   "metadata": {},
   "outputs": [
    {
     "data": {
      "image/png": "[encoded data removed]",
      "text/plain": [
       "<Figure size 432x288 with 2 Axes>"
      ]
     },
     "metadata": {
      "needs_background": "light"
     },
     "output_type": "display_data"
    }
   ],
   "source": [
    "#Prediction of test set\n",
    "conf_matrix = confusion_matrix(y_test64_1,prediction64_1)\n",
    "sns.heatmap(conf_matrix,cmap=\"YlGnBu\",annot=True,fmt='g');\n",
    "plt.xlabel('predicted value')\n",
    "plt.ylabel('true value');"
   ]
  },
  {
   "cell_type": "markdown",
   "metadata": {},
   "source": [
    "The better CNN model leveraging (64x64) grayscale photos confuses more dogs(1) as cats (0) than cats (0) as dogs (1). Further training and modification of hyperparameters should be pursued to continue to improve the accuracy of image classification. "
   ]
  }
 ],
 "metadata": {
  "kernelspec": {
   "display_name": "Python 2",
   "language": "python",
   "name": "python2"
  },
  "language_info": {
   "codemirror_mode": {
    "name": "ipython",
    "version": 2
   },
   "file_extension": ".py",
   "mimetype": "text/x-python",
   "name": "python",
   "nbconvert_exporter": "python",
   "pygments_lexer": "ipython2",
   "version": "2.7.16"
  }
 },
 "nbformat": 4,
 "nbformat_minor": 2
}
