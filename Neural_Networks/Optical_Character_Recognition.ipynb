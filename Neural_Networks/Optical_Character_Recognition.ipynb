{
 "cells": [
  {
   "cell_type": "markdown",
   "metadata": {},
   "source": [
    "A financial institution is evaluating machine learning technologies for optical character recognition. The following testing has been conducted to explore what type of neural network typology and hyperparameter settings could be recommended to the financial instituition. Initial testing is on the MNIST digits dataset. "
   ]
  },
  {
   "cell_type": "code",
   "execution_count": 1,
   "metadata": {},
   "outputs": [
    {
     "name": "stdout",
     "output_type": "stream",
     "text": [
      "Already downloaded train-images-idx3-ubyte.gz\n",
      "Already downloaded train-labels-idx1-ubyte.gz\n",
      "Already downloaded t10k-images-idx3-ubyte.gz\n",
      "Already downloaded t10k-labels-idx1-ubyte.gz\n"
     ]
    }
   ],
   "source": [
    "# code from 3_mnist_from_scratch-data-dump.py\n",
    "# Import MNIST data\n",
    "\n",
    "import os\n",
    "from six.moves.urllib.request import urlretrieve\n",
    "\n",
    "SOURCE_URL = 'https://storage.googleapis.com/cvdf-datasets/mnist/'\n",
    "WORK_DIRECTORY = \"C:/Users/MCJ/Documents/Northwestern/422 - Machine Learning/Assignment \\\n",
    "                  6/jump-start-mnist-scikit-learn-ann\"\n",
    "\n",
    "def maybe_download(filename):\n",
    "    \"\"\"A helper to download the data files if not present.\"\"\"\n",
    "    if not os.path.exists(WORK_DIRECTORY):\n",
    "        os.mkdir(WORK_DIRECTORY)\n",
    "    filepath = os.path.join(WORK_DIRECTORY, filename)\n",
    "    if not os.path.exists(filepath):\n",
    "        filepath, _ = urlretrieve(SOURCE_URL + filename, filepath)\n",
    "        statinfo = os.stat(filepath)\n",
    "        print('Successfully downloaded', filename, statinfo.st_size, 'bytes.')\n",
    "    else:\n",
    "        print('Already downloaded', filename)\n",
    "    return filepath\n",
    "\n",
    "train_data_filename = maybe_download('train-images-idx3-ubyte.gz')\n",
    "train_labels_filename = maybe_download('train-labels-idx1-ubyte.gz')\n",
    "test_data_filename = maybe_download('t10k-images-idx3-ubyte.gz')\n",
    "test_labels_filename = maybe_download('t10k-labels-idx1-ubyte.gz')"
   ]
  },
  {
   "cell_type": "code",
   "execution_count": 2,
   "metadata": {},
   "outputs": [
    {
     "name": "stdout",
     "output_type": "stream",
     "text": [
      "magic number 2051\n",
      "image count 10000\n",
      "rows 28\n",
      "columns 28\n",
      "First 10 pixels: [0 0 0 0 0 0 0 0 0 0]\n"
     ]
    }
   ],
   "source": [
    "# Pre-processing:\n",
    "# Decompress the gzipped data\n",
    "# Normalize these to [-0.5, 0.5].\n",
    "# Ensure data is read properly by reading first image from test data \n",
    "\n",
    "import gzip, binascii, struct, numpy\n",
    "import matplotlib.pyplot as plt\n",
    "\n",
    "with gzip.open(test_data_filename) as f:\n",
    "    # Print the header fields.\n",
    "    for field in ['magic number', 'image count', 'rows', 'columns']:\n",
    "        # struct.unpack reads the binary data provided by f.read.\n",
    "        # The format string '>i' decodes a big-endian integer, which\n",
    "        # is the encoding of the data.\n",
    "        print(field, struct.unpack('>i', f.read(4))[0])\n",
    "    \n",
    "    # Read the first 28x28 set of pixel values. \n",
    "    # Each pixel is one byte, [0, 255], a uint8.\n",
    "    buf = f.read(28 * 28)\n",
    "    image = numpy.frombuffer(buf, dtype=numpy.uint8)\n",
    "  \n",
    "    # Print the first few values of image.\n",
    "    print('First 10 pixels:', image[:10])"
   ]
  },
  {
   "cell_type": "code",
   "execution_count": 3,
   "metadata": {},
   "outputs": [
    {
     "name": "stdout",
     "output_type": "stream",
     "text": [
      "magic number 2051\n",
      "image count 10000\n",
      "rows 28\n",
      "columns 28\n",
      "First 10 pixels: [0 0 0 0 0 0 0 0 0 0]\n"
     ]
    },
    {
     "data": {
      "image/png": "[encoded data removed]",
      "text/plain": [
       "<Figure size 432x288 with 2 Axes>"
      ]
     },
     "metadata": {
      "needs_background": "light"
     },
     "output_type": "display_data"
    }
   ],
   "source": [
    "# Decompress the gzipped data\n",
    "# Normalize data to [-0.5, 0.5].\n",
    "# Ensure data is read properly by reading first image from test data \n",
    "\n",
    "import gzip, binascii, struct, numpy\n",
    "import matplotlib.pyplot as plt\n",
    "\n",
    "with gzip.open(test_data_filename) as f:\n",
    "    # Print the header fields.\n",
    "    for field in ['magic number', 'image count', 'rows', 'columns']:\n",
    "        # struct.unpack reads the binary data provided by f.read.\n",
    "        # The format string '>i' decodes a big-endian integer, which\n",
    "        # is the encoding of the data.\n",
    "        print(field, struct.unpack('>i', f.read(4))[0])\n",
    "    \n",
    "    # Read the first 28x28 set of pixel values. \n",
    "    # Each pixel is one byte, [0, 255], a uint8.\n",
    "    buf = f.read(28 * 28)\n",
    "    image = numpy.frombuffer(buf, dtype=numpy.uint8)\n",
    " \n",
    "  # Print the first few values of image.\n",
    "    print('First 10 pixels:', image[:10])\n",
    "    \n",
    "get_ipython().magic(u'matplotlib inline')\n",
    "\n",
    "# We'll show the image and its pixel value histogram side-by-side.\n",
    "_, (ax1, ax2) = plt.subplots(1, 2)\n",
    "\n",
    "# To interpret the values as a 28x28 image, we need to reshape\n",
    "# the numpy array, which is one dimensional.\n",
    "ax1.imshow(image.reshape(28, 28), cmap=plt.cm.Greys);\n",
    "\n",
    "ax2.hist(image, bins=20, range=[0,255]); "
   ]
  },
  {
   "cell_type": "markdown",
   "metadata": {},
   "source": [
    "The output looks like the data is being brought in correctly as the image appears to be a seven and the histogram is indicating a lot of white(0), some black (255) and grayscale as everything in between. "
   ]
  },
  {
   "cell_type": "code",
   "execution_count": null,
   "metadata": {},
   "outputs": [],
   "source": [
    "# Normalization\n",
    "# convert the uint8 image to 32 bit floats and \n",
    "# rescale the values to be centered around 0, between [-0.5, 0.5]. \n",
    "scaled = image.astype(numpy.float32)\n",
    "scaled = (scaled - (255 / 2.0)) / 255\n",
    "_, (ax1, ax2) = plt.subplots(1, 2)\n",
    "ax1.imshow(scaled.reshape(28, 28), cmap=plt.cm.Greys);\n",
    "ax2.hist(scaled, bins=20, range=[-0.5, 0.5]);"
   ]
  },
  {
   "cell_type": "markdown",
   "metadata": {},
   "source": [
    "Ran cell, but deleted results to save space."
   ]
  },
  {
   "cell_type": "code",
   "execution_count": 5,
   "metadata": {},
   "outputs": [
    {
     "name": "stdout",
     "output_type": "stream",
     "text": [
      "magic number 2049\n",
      "label count 10000\n",
      "First label: 7\n"
     ]
    }
   ],
   "source": [
    "# unpack the test label data and ensure it is correct, expecting a 7\n",
    "with gzip.open(test_labels_filename) as f:\n",
    "    # Print the header fields.\n",
    "    for field in ['magic number', 'label count']:\n",
    "        print(field, struct.unpack('>i', f.read(4))[0])\n",
    "\n",
    "    print('First label:', struct.unpack('B', f.read(1))[0])"
   ]
  },
  {
   "cell_type": "code",
   "execution_count": 6,
   "metadata": {},
   "outputs": [
    {
     "name": "stdout",
     "output_type": "stream",
     "text": [
      "Extracting C:/Users/MCJ/Documents/Northwestern/422 - Machine Learning/Assignment 6/jump-start-mnist-scikit-learn-ann\\train-images-idx3-ubyte.gz\n",
      "Extracting C:/Users/MCJ/Documents/Northwestern/422 - Machine Learning/Assignment 6/jump-start-mnist-scikit-learn-ann\\t10k-images-idx3-ubyte.gz\n"
     ]
    }
   ],
   "source": [
    "# Create training and testing data sets\n",
    "\n",
    "IMAGE_SIZE = 28\n",
    "PIXEL_DEPTH = 255\n",
    "\n",
    "def extract_data(filename, num_images):\n",
    "    \"\"\"Extract the images into a 4D tensor [image index, y, x, channels].\n",
    "  \n",
    "    For MNIST data, the number of channels is always 1.\n",
    "\n",
    "    Values are rescaled from [0, 255] down to [-0.5, 0.5].\n",
    "    \"\"\"\n",
    "    print('Extracting', filename)\n",
    "    with gzip.open(filename) as bytestream:\n",
    "        bytestream.read(16)\n",
    "\n",
    "        buf = bytestream.read(IMAGE_SIZE * IMAGE_SIZE * num_images)\n",
    "        data = numpy.frombuffer(buf, dtype=numpy.uint8).astype(numpy.float32)\n",
    "        data = (data - (PIXEL_DEPTH / 2.0)) / PIXEL_DEPTH\n",
    "        data = data.reshape(num_images, IMAGE_SIZE, IMAGE_SIZE, 1)\n",
    "        return data\n",
    "\n",
    "train_data = extract_data(train_data_filename, 60000)\n",
    "test_data = extract_data(test_data_filename, 10000)"
   ]
  },
  {
   "cell_type": "code",
   "execution_count": null,
   "metadata": {},
   "outputs": [],
   "source": [
    "# Ensure reshaping parameters are correct by\n",
    "# examing the dimensions and the first two images.\n",
    "\n",
    "print('Training data shape', train_data.shape)\n",
    "_, (ax1, ax2) = plt.subplots(1, 2)\n",
    "ax1.imshow(train_data[0].reshape(28, 28), cmap=plt.cm.Greys);\n",
    "ax2.imshow(train_data[1].reshape(28, 28), cmap=plt.cm.Greys);"
   ]
  },
  {
   "cell_type": "markdown",
   "metadata": {},
   "source": [
    "Ran cell, but deleted results to save space."
   ]
  },
  {
   "cell_type": "code",
   "execution_count": 8,
   "metadata": {},
   "outputs": [
    {
     "name": "stdout",
     "output_type": "stream",
     "text": [
      "Extracting C:/Users/MCJ/Documents/Northwestern/422 - Machine Learning/Assignment 6/jump-start-mnist-scikit-learn-ann\\train-labels-idx1-ubyte.gz\n",
      "Extracting C:/Users/MCJ/Documents/Northwestern/422 - Machine Learning/Assignment 6/jump-start-mnist-scikit-learn-ann\\t10k-labels-idx1-ubyte.gz\n",
      "Training labels shape (60000, 10)\n",
      "First label vector [0. 0. 0. 0. 0. 1. 0. 0. 0. 0.]\n",
      "Second label vector [1. 0. 0. 0. 0. 0. 0. 0. 0. 0.]\n"
     ]
    }
   ],
   "source": [
    "# Load full set of labels. \n",
    "# Convert input labels into a 1-hot encoding for digits 0-9\n",
    "\n",
    "NUM_LABELS = 10\n",
    "\n",
    "def extract_labels(filename, num_images):\n",
    "    \"\"\"Extract the labels into a 1-hot matrix [image index, label index].\"\"\"\n",
    "    print('Extracting', filename)\n",
    "    with gzip.open(filename) as bytestream:\n",
    "        # Skip the magic number and count; we know these values.\n",
    "        bytestream.read(8)\n",
    "        buf = bytestream.read(1 * num_images)\n",
    "        labels = numpy.frombuffer(buf, dtype=numpy.uint8)\n",
    "    # Convert to dense 1-hot representation.\n",
    "    return (numpy.arange(NUM_LABELS) == labels[:, None]).astype(numpy.float32)\n",
    "\n",
    "train_labels = extract_labels(train_labels_filename, 60000)\n",
    "test_labels = extract_labels(test_labels_filename, 10000)\n",
    "\n",
    "# Ensure 1-hot encoding looks accurate\n",
    "print('Training labels shape', train_labels.shape)\n",
    "print('First label vector', train_labels[0])\n",
    "print('Second label vector', train_labels[1])"
   ]
  },
  {
   "cell_type": "code",
   "execution_count": 9,
   "metadata": {},
   "outputs": [
    {
     "name": "stdout",
     "output_type": "stream",
     "text": [
      "Validation shape (5000, 28, 28, 1)\n",
      "Train size 55000\n"
     ]
    }
   ],
   "source": [
    "# Create validation dataset from training set\n",
    "\n",
    "VALIDATION_SIZE = 5000\n",
    "\n",
    "validation_data = train_data[:VALIDATION_SIZE, :, :, :]\n",
    "validation_labels = train_labels[:VALIDATION_SIZE]\n",
    "train_data = train_data[VALIDATION_SIZE:, :, :, :]\n",
    "train_labels = train_labels[VALIDATION_SIZE:]\n",
    "\n",
    "train_size = train_labels.shape[0]\n",
    "\n",
    "print('Validation shape', validation_data.shape)\n",
    "print('Train size', train_size)"
   ]
  },
  {
   "cell_type": "code",
   "execution_count": 10,
   "metadata": {},
   "outputs": [
    {
     "name": "stderr",
     "output_type": "stream",
     "text": [
      "C:\\Users\\MCJ\\Anaconda3\\lib\\site-packages\\h5py\\__init__.py:72: UserWarning: h5py is running against HDF5 1.10.2 when it was built against 1.10.3, this may cause problems\n",
      "  '{0}.{1}.{2}'.format(*version.hdf5_built_version_tuple)\n"
     ]
    },
    {
     "name": "stdout",
     "output_type": "stream",
     "text": [
      "Done\n"
     ]
    }
   ],
   "source": [
    "# code from 3_mnist_from_scratch.py\n",
    "\n",
    "import tensorflow as tf\n",
    "\n",
    "# bundle groups of examples during training for efficiency\n",
    "BATCH_SIZE = 60\n",
    "NUM_CHANNELS = 1\n",
    "SEED = 42\n",
    "\n",
    "# Where training samples and labels are fed to the graph.\n",
    "train_data_node = tf.placeholder(\n",
    "  tf.float32,\n",
    "  shape=(BATCH_SIZE, IMAGE_SIZE, IMAGE_SIZE, NUM_CHANNELS))\n",
    "train_labels_node = tf.placeholder(tf.float32,\n",
    "                                   shape=(BATCH_SIZE, NUM_LABELS))\n",
    "\n",
    "# For the validation and test data, the entire dataset will be \n",
    "# in one constant node.\n",
    "validation_data_node = tf.constant(validation_data)\n",
    "test_data_node = tf.constant(test_data)\n",
    "\n",
    "# The variables below hold all the trainable weights. For each, the\n",
    "# parameter defines how the variables will be initialized.\n",
    "conv1_weights = tf.Variable(\n",
    "  tf.truncated_normal([5, 5, NUM_CHANNELS, 32],  # 5x5 filter, depth 32.\n",
    "                      stddev=0.1,\n",
    "                      seed=SEED))\n",
    "conv1_biases = tf.Variable(tf.zeros([32]))\n",
    "conv2_weights = tf.Variable(\n",
    "  tf.truncated_normal([5, 5, 32, 64],\n",
    "                      stddev=0.1,\n",
    "                      seed=SEED))\n",
    "conv2_biases = tf.Variable(tf.constant(0.1, shape=[64]))\n",
    "fc1_weights = tf.Variable(  # fully connected, depth 512.\n",
    "  tf.truncated_normal([IMAGE_SIZE // 4 * IMAGE_SIZE // 4 * 64, 512],\n",
    "                      stddev=0.1,\n",
    "                      seed=SEED))\n",
    "fc1_biases = tf.Variable(tf.constant(0.1, shape=[512]))\n",
    "fc2_weights = tf.Variable(\n",
    "  tf.truncated_normal([512, NUM_LABELS],\n",
    "                      stddev=0.1,\n",
    "                      seed=SEED))\n",
    "fc2_biases = tf.Variable(tf.constant(0.1, shape=[NUM_LABELS]))\n",
    "\n",
    "print('Done')"
   ]
  },
  {
   "cell_type": "code",
   "execution_count": 11,
   "metadata": {},
   "outputs": [
    {
     "name": "stdout",
     "output_type": "stream",
     "text": [
      "Done\n"
     ]
    }
   ],
   "source": [
    "# code from 3_mnist_from_scratch-data-dump.py\n",
    "# Wire variables together into a TensorFlow graph.\n",
    "\n",
    "def model(data, train=False):\n",
    "    \"\"\"The Model definition.\"\"\"\n",
    "    conv = tf.nn.conv2d(data,\n",
    "                        conv1_weights,\n",
    "                        strides=[1, 1, 1, 1],\n",
    "                        padding='SAME')\n",
    "\n",
    "    # Bias and rectified linear non-linearity.\n",
    "    relu = tf.nn.relu(tf.nn.bias_add(conv, conv1_biases))\n",
    "\n",
    "    # Max pooling. Pooling window of 2, and a stride of 2.\n",
    "    pool = tf.nn.max_pool(relu,\n",
    "                          ksize=[1, 2, 2, 1],\n",
    "                          strides=[1, 2, 2, 1],\n",
    "                          padding='SAME')\n",
    "    conv = tf.nn.conv2d(pool,\n",
    "                        conv2_weights,\n",
    "                        strides=[1, 1, 1, 1],\n",
    "                        padding='SAME')\n",
    "    relu = tf.nn.relu(tf.nn.bias_add(conv, conv2_biases))\n",
    "    pool = tf.nn.max_pool(relu,\n",
    "                          ksize=[1, 2, 2, 1],\n",
    "                          strides=[1, 2, 2, 1],\n",
    "                          padding='SAME')\n",
    "\n",
    "    # Reshape the feature map cuboid into a 2D matrix to feed it to the\n",
    "    # fully connected layers.\n",
    "    pool_shape = pool.get_shape().as_list()\n",
    "    reshape = tf.reshape(\n",
    "        pool,\n",
    "        [pool_shape[0], pool_shape[1] * pool_shape[2] * pool_shape[3]])\n",
    "  \n",
    "    # Fully connected layer. Note that the '+' operation automatically\n",
    "    # broadcasts the biases.\n",
    "    hidden = tf.nn.relu(tf.matmul(reshape, fc1_weights) + fc1_biases)\n",
    "\n",
    "    # Add a 50% dropout during training only. Dropout also scales\n",
    "    # activations such that no rescaling is needed at evaluation time.\n",
    "    if train:\n",
    "        hidden = tf.nn.dropout(hidden, 0.5, seed=SEED)\n",
    "    return tf.matmul(hidden, fc2_weights) + fc2_biases\n",
    "\n",
    "print('Done')"
   ]
  },
  {
   "cell_type": "code",
   "execution_count": 12,
   "metadata": {},
   "outputs": [
    {
     "name": "stdout",
     "output_type": "stream",
     "text": [
      "WARNING:tensorflow:From <ipython-input-12-e8e279ca72a9>:11: softmax_cross_entropy_with_logits (from tensorflow.python.ops.nn_ops) is deprecated and will be removed in a future version.\n",
      "Instructions for updating:\n",
      "\n",
      "Future major versions of TensorFlow will allow gradients to flow\n",
      "into the labels input on backprop by default.\n",
      "\n",
      "See @{tf.nn.softmax_cross_entropy_with_logits_v2}.\n",
      "\n",
      "Done\n"
     ]
    }
   ],
   "source": [
    "# create multiple copies of graphs for training, \n",
    "# testing, and validation.\n",
    "# \n",
    "#`train_prediction` holds the training graph, for which we use cross-entropy loss and weight regularization. \n",
    "#We'll adjust the learning rate during training -- that's handled by the `exponential_decay` operation, \n",
    "#which is itself an argument to the `MomentumOptimizer` that performs the actual training.\n",
    "\n",
    "# Training computation: logits + cross-entropy loss.\n",
    "logits = model(train_data_node, True)\n",
    "loss = tf.reduce_mean(tf.nn.softmax_cross_entropy_with_logits(\n",
    "  labels=train_labels_node, logits=logits))\n",
    "\n",
    "# L2 regularization for the fully connected parameters.\n",
    "regularizers = (tf.nn.l2_loss(fc1_weights) + tf.nn.l2_loss(fc1_biases) +\n",
    "                tf.nn.l2_loss(fc2_weights) + tf.nn.l2_loss(fc2_biases))\n",
    "# Add the regularization term to the loss.\n",
    "loss += 5e-4 * regularizers\n",
    "\n",
    "# Optimizer: set up a variable that's incremented once per batch and\n",
    "# controls the learning rate decay.\n",
    "batch = tf.Variable(0)\n",
    "# Decay once per epoch, using an exponential schedule starting at 0.01.\n",
    "learning_rate = tf.train.exponential_decay(\n",
    "  0.01,                # Base learning rate.\n",
    "  batch * BATCH_SIZE,  # Current index into the dataset.\n",
    "  train_size,          # Decay step.\n",
    "  0.95,                # Decay rate.\n",
    "  staircase=True)\n",
    "# Use simple momentum for the optimization.\n",
    "optimizer = tf.train.MomentumOptimizer(learning_rate,\n",
    "                                       0.9).minimize(loss,\n",
    "                                                     global_step=batch)\n",
    "\n",
    "# Predictions for the minibatch, validation set and test set.\n",
    "train_prediction = tf.nn.softmax(logits)\n",
    "# We'll compute them only once in a while by calling their {eval()} method.\n",
    "validation_prediction = tf.nn.softmax(model(validation_data_node))\n",
    "test_prediction = tf.nn.softmax(model(test_data_node))\n",
    "\n",
    "print('Done')"
   ]
  },
  {
   "cell_type": "code",
   "execution_count": 13,
   "metadata": {},
   "outputs": [],
   "source": [
    "# Initiate training loop and periodically evaluate loss and error.\n",
    "# Create a session and initialize variables defined above.\n",
    "\n",
    "# Create an interactive session to use in\n",
    "# subsequent code cells.\n",
    "s = tf.InteractiveSession()\n",
    "\n",
    "# Use newly created session as the default for \n",
    "# subsequent operations.\n",
    "s.as_default()\n",
    "\n",
    "# Initialize all the variables we defined above.\n",
    "tf.global_variables_initializer().run()"
   ]
  },
  {
   "cell_type": "code",
   "execution_count": 14,
   "metadata": {},
   "outputs": [
    {
     "name": "stdout",
     "output_type": "stream",
     "text": [
      "Done\n"
     ]
    }
   ],
   "source": [
    "# create scoring function.\n",
    "\n",
    "def error_rate(predictions, labels):\n",
    "    \"\"\"Return the error rate and confusions.\"\"\"\n",
    "    correct = numpy.sum(numpy.argmax(predictions, 1) == numpy.argmax(labels, 1))\n",
    "    total = predictions.shape[0]\n",
    "\n",
    "    error = 100.0 - (100 * float(correct) / float(total))\n",
    "\n",
    "    confusions = numpy.zeros([10, 10], numpy.float32)\n",
    "    bundled = zip(numpy.argmax(predictions, 1), numpy.argmax(labels, 1))\n",
    "    for predicted, actual in bundled:\n",
    "        confusions[predicted, actual] += 1\n",
    "    \n",
    "    return error, confusions\n",
    "\n",
    "print('Done')"
   ]
  },
  {
   "cell_type": "code",
   "execution_count": null,
   "metadata": {},
   "outputs": [],
   "source": [
    "# code from 3_mnist_from_scratch-data-dump.py\n",
    "# Define a loop to go through and train the data.\n",
    "# Includes printing of loss and error at 100 step intervals.\n",
    "# warning: takes a lot of time to go through the iterations\n",
    "# if you are running this code. \n",
    "\n",
    "BATCH_SIZE = 60\n",
    "\n",
    "# Train over the first 1/4th of the training set.\n",
    "steps = train_size // BATCH_SIZE\n",
    "for step in range(steps):\n",
    "    # Compute the offset of the current minibatch in the data.\n",
    "    # Note that we could use better randomization across epochs.\n",
    "    offset = (step * BATCH_SIZE) % (train_size - BATCH_SIZE)\n",
    "    batch_data = train_data[offset:(offset + BATCH_SIZE), :, :, :]\n",
    "    batch_labels = train_labels[offset:(offset + BATCH_SIZE)]\n",
    "    # This dictionary maps the batch data (as a numpy array) to the\n",
    "    # node in the graph it should be fed to.\n",
    "    feed_dict = {train_data_node: batch_data,\n",
    "                 train_labels_node: batch_labels}\n",
    "    # Run the graph and fetch some of the nodes.\n",
    "    _, l, lr, predictions = s.run(\n",
    "      [optimizer, loss, learning_rate, train_prediction],\n",
    "      feed_dict=feed_dict)\n",
    "    \n",
    "    # Print out the loss periodically.\n",
    "    if step % 100 == 0:\n",
    "        error, _ = error_rate(predictions, batch_labels)\n",
    "        print('Step %d of %d' % (step, steps))\n",
    "        print('Mini-batch loss: %.5f Error: %.5f Learning rate: %.5f' % (l, error, lr))\n",
    "        print('Validation error: %.1f%%' % error_rate(\n",
    "              validation_prediction.eval(), validation_labels)[0])"
   ]
  },
  {
   "cell_type": "markdown",
   "metadata": {},
   "source": [
    "Ran cell, but deleted results to save space."
   ]
  },
  {
   "cell_type": "code",
   "execution_count": 16,
   "metadata": {},
   "outputs": [
    {
     "name": "stdout",
     "output_type": "stream",
     "text": [
      "Test error: 1.7%\n"
     ]
    },
    {
     "data": {
      "image/png": "[encoded data removed]",
      "text/plain": [
       "<Figure size 432x288 with 1 Axes>"
      ]
     },
     "metadata": {
      "needs_background": "light"
     },
     "output_type": "display_data"
    }
   ],
   "source": [
    "# evaluate the results using the test set.\n",
    "# To identify mispredictions, include the raw count of each \n",
    "# (prediction, label) pair in the confusion matrix.\n",
    "\n",
    "test_error, confusions = error_rate(test_prediction.eval(), test_labels)\n",
    "print('Test error: %.1f%%' % test_error)\n",
    "\n",
    "plt.xlabel('Actual')\n",
    "plt.ylabel('Predicted')\n",
    "plt.grid(False)\n",
    "plt.xticks(numpy.arange(NUM_LABELS))\n",
    "plt.yticks(numpy.arange(NUM_LABELS))\n",
    "plt.imshow(confusions, cmap=plt.cm.jet, interpolation='nearest');\n",
    "\n",
    "for i, cas in enumerate(confusions):\n",
    "    for j, count in enumerate(cas):\n",
    "        if count > 0:\n",
    "            xoff = .07 * len(str(count))\n",
    "            plt.text(j-xoff, i+.2, int(count), fontsize=9, color='white')"
   ]
  },
  {
   "cell_type": "markdown",
   "metadata": {},
   "source": [
    "Results are generally accurate, with some errors of predicting 3's and 6's as 5's. "
   ]
  },
  {
   "cell_type": "code",
   "execution_count": 20,
   "metadata": {},
   "outputs": [
    {
     "name": "stdout",
     "output_type": "stream",
     "text": [
      "\n",
      " Run complete. data objects sent to binary file  mnist_data.pickle\n"
     ]
    }
   ],
   "source": [
    "# code 4_mnist_from_scratch-data-dump.py\n",
    "# Export the train, validation, and test objects to a binary file \n",
    "# using Python pickle dump.\n",
    "\n",
    "import pickle  \n",
    "\n",
    "# define collection of objects to export as binary file using pickle.\n",
    "data = {\n",
    "    'train_data': train_data,\n",
    "    'train_labels': train_labels,\n",
    "    'validation_data': validation_data,\n",
    "    'validation_labels': validation_labels,\n",
    "    'test_data': test_data,\n",
    "    'test_labels': test_labels}\n",
    "\n",
    "# write to binary file\n",
    "with open('mnist_data.pickle', 'wb') as f:\n",
    "    # Pickle the 'data' dictionary using the highest protocol available.\n",
    "    pickle.dump(data, f, pickle.HIGHEST_PROTOCOL)\n",
    "\n",
    "print('\\n Run complete. data objects sent to binary file  mnist_data.pickle')"
   ]
  },
  {
   "cell_type": "code",
   "execution_count": null,
   "metadata": {},
   "outputs": [],
   "source": [
    "# shift to scikit-learn for subsequent modeling\n",
    "# due to errors obtained in earlier section \n",
    "# check data for pickle dump\n",
    "print('\\ntrain_data object:', type(train_data), train_data.shape)    \n",
    "print('\\ntrain_labels object:', type(train_labels),  train_labels.shape)  \n",
    "print('\\nvalidation_data object:', type(validation_data),  validation_data.shape)  \n",
    "print('\\nvalidation_labels object:', type(validation_labels),  validation_labels.shape)  \n",
    "print('\\ntest_data object:', type(test_data),  test_data.shape)  \n",
    "print('\\ntest_labels object:', type(test_labels),  test_labels.shape)  "
   ]
  },
  {
   "cell_type": "markdown",
   "metadata": {},
   "source": [
    "Ran cell, but deleted results to save space."
   ]
  },
  {
   "cell_type": "code",
   "execution_count": null,
   "metadata": {},
   "outputs": [],
   "source": [
    "# code from 5_mnist_from_scratch_data_load-v001.py   \n",
    "# Imports the the train, validation, and test objects \n",
    "# from a binary file <mnist_data.pickle>\n",
    "\n",
    "from __future__ import absolute_import\n",
    "from __future__ import division\n",
    "from __future__ import print_function\n",
    "\n",
    "\n",
    "with open('mnist_data.pickle', 'rb') as f:\n",
    "    # The protocol version used is detected automatically, so we do not\n",
    "    # have to specify it.\n",
    "    data = pickle.load(f)\n",
    "\n",
    "# extract objects from the dictionary object data\n",
    "train_data = data['train_data']\n",
    "train_labels = data['train_labels'] \n",
    "validation_data = data['validation_data'] \n",
    "validation_labels = data['validation_labels'] \n",
    "test_data = data['test_data'] \n",
    "test_labels = data['test_labels']  \n",
    "    \n",
    "# check data from pickle load\n",
    "print('\\ntrain_data object:', type(train_data), train_data.shape)    \n",
    "print('\\ntrain_labels object:', type(train_labels),  train_labels.shape)  \n",
    "print('\\nvalidation_data object:', type(validation_data),  validation_data.shape)  \n",
    "print('\\nvalidation_labels object:', type(validation_labels),  validation_labels.shape)  \n",
    "print('\\ntest_data object:', type(test_data),  test_data.shape)  \n",
    "print('\\ntest_labels object:', type(test_labels),  test_labels.shape)  \n",
    "\n",
    "print('\\ndata input complete')"
   ]
  },
  {
   "cell_type": "markdown",
   "metadata": {},
   "source": [
    "Ran cell, but deleted results to save space."
   ]
  },
  {
   "cell_type": "code",
   "execution_count": null,
   "metadata": {},
   "outputs": [],
   "source": [
    "# Code from mnist_from_scratch_scikit-learn-ann-v001.py\n",
    "# restructure input files to use with Scikit-Learn\n",
    "\n",
    "import numpy as np\n",
    "import pandas as pd\n",
    "import time\n",
    "\n",
    "# convert binary digits to digits 0-9\n",
    "def label_transform(y_in):\n",
    "    for i in range(len(y_in)):\n",
    "        if (y_in[i] == 1): return i\n",
    "\n",
    "y_train = []    \n",
    "for j in range(train_labels.shape[0]):\n",
    "    y_train.append(label_transform(train_labels[j,]))  \n",
    "y_train = np.asarray(y_train)    \n",
    "\n",
    "y_validation = []    \n",
    "for j in range(validation_labels.shape[0]):\n",
    "    y_validation.append(label_transform(validation_labels[j,]))  \n",
    "y_validation = np.asarray(y_validation)    \n",
    "\n",
    "y_test = []    \n",
    "for j in range(test_labels.shape[0]):\n",
    "    y_test.append(label_transform(test_labels[j,]))  \n",
    "y_test = np.asarray(y_test)    \n",
    "    \n",
    "# 28x28 matrix of entries converted to vector of 784 entries    \n",
    "X_train = train_data.reshape(55000, 784)\n",
    "X_validation = validation_data.reshape(5000, 784)    \n",
    "X_test = test_data.reshape(10000, 784)    \n",
    "\n",
    "# check data intended for Scikit Learn input\n",
    "print('\\nX_train object:', type(X_train), X_train.shape)    \n",
    "print('\\ny_train object:', type(y_train),  y_train.shape)  \n",
    "print('\\nX_validation object:', type(X_validation),  X_validation.shape)  \n",
    "print('\\ny_validation object:', type(y_validation),  y_validation.shape)  \n",
    "print('\\nX_test object:', type(X_test),  X_test.shape)  \n",
    "print('\\ny_test object:', type(y_test),  y_test.shape)    "
   ]
  },
  {
   "cell_type": "markdown",
   "metadata": {},
   "source": [
    "Ran cell, but deleted results to save space."
   ]
  },
  {
   "cell_type": "code",
   "execution_count": 23,
   "metadata": {},
   "outputs": [
    {
     "name": "stdout",
     "output_type": "stream",
     "text": [
      "\n",
      "X_train_expanded object: <class 'numpy.ndarray'> (60000, 784)\n",
      "\n",
      "y_train_expanded object: <class 'numpy.ndarray'> (60000, 1)\n"
     ]
    }
   ],
   "source": [
    "# Scikit Learn MLP Classification does validation internally, \n",
    "# Eliminate separate validation dataset by \n",
    "# Combining the train and validation sets.\n",
    "\n",
    "X_train_expanded = np.vstack((X_train, X_validation))\n",
    "y_train_expanded = np.vstack((y_train.reshape(55000,1), y_validation.reshape(5000,1)))\n",
    "\n",
    "print('\\nX_train_expanded object:', type(X_train_expanded),  X_train_expanded.shape)  \n",
    "print('\\ny_train_expanded object:', type(y_train_expanded), y_train_expanded.shape)  "
   ]
  },
  {
   "cell_type": "code",
   "execution_count": 30,
   "metadata": {},
   "outputs": [
    {
     "name": "stdout",
     "output_type": "stream",
     "text": [
      "\n",
      "------------------------------------\n",
      "\n",
      "Method: ANN-2-Layers-5-Nodes/Layer-identity\n",
      "\n",
      "  Specification of method: MLPClassifier(activation='identity', alpha=0.0001, batch_size='auto',\n",
      "       beta_1=0.9, beta_2=0.999, early_stopping=False, epsilon=1e-08,\n",
      "       hidden_layer_sizes=(5, 5), learning_rate='constant',\n",
      "       learning_rate_init=0.001, max_iter=500, momentum=0.9,\n",
      "       n_iter_no_change=10, nesterovs_momentum=True, power_t=0.5,\n",
      "       random_state=9999, shuffle=True, solver='adam', tol=0.001,\n",
      "       validation_fraction=0.083333, verbose=False, warm_start=False)\n",
      "\n",
      "Processing time (seconds): 74.480409\n",
      "\n",
      "Training set accuracy: 0.903600\n",
      "\n",
      "Test set accuracy: 0.900900\n",
      "\n",
      "------------------------------------\n",
      "\n",
      "Method: ANN-2-Layers-10-Nodes/Layer-identity\n",
      "\n",
      "  Specification of method: MLPClassifier(activation='identity', alpha=0.0001, batch_size='auto',\n",
      "       beta_1=0.9, beta_2=0.999, early_stopping=False, epsilon=1e-08,\n",
      "       hidden_layer_sizes=(10, 10), learning_rate='constant',\n",
      "       learning_rate_init=0.001, max_iter=500, momentum=0.9,\n",
      "       n_iter_no_change=10, nesterovs_momentum=True, power_t=0.5,\n",
      "       random_state=9999, shuffle=True, solver='adam', tol=0.001,\n",
      "       validation_fraction=0.083333, verbose=False, warm_start=False)\n",
      "\n",
      "Processing time (seconds): 94.075236\n",
      "\n",
      "Training set accuracy: 0.928317\n",
      "\n",
      "Test set accuracy: 0.919600\n",
      "\n",
      "------------------------------------\n",
      "\n",
      "Method: ANN-4-Layers-5-Nodes/Layer-identity\n",
      "\n",
      "  Specification of method: MLPClassifier(activation='identity', alpha=0.0001, batch_size='auto',\n",
      "       beta_1=0.9, beta_2=0.999, early_stopping=False, epsilon=1e-08,\n",
      "       hidden_layer_sizes=(5, 5, 5, 5), learning_rate='constant',\n",
      "       learning_rate_init=0.001, max_iter=500, momentum=0.9,\n",
      "       n_iter_no_change=10, nesterovs_momentum=True, power_t=0.5,\n",
      "       random_state=9999, shuffle=True, solver='adam', tol=0.001,\n",
      "       validation_fraction=0.083333, verbose=False, warm_start=False)\n",
      "\n",
      "Processing time (seconds): 119.934976\n",
      "\n",
      "Training set accuracy: 0.874533\n",
      "\n",
      "Test set accuracy: 0.868500\n",
      "\n",
      "------------------------------------\n",
      "\n",
      "Method: ANN-4-Layers-10-Nodes/Layer-identity\n",
      "\n",
      "  Specification of method: MLPClassifier(activation='identity', alpha=0.0001, batch_size='auto',\n",
      "       beta_1=0.9, beta_2=0.999, early_stopping=False, epsilon=1e-08,\n",
      "       hidden_layer_sizes=(10, 10, 10, 10), learning_rate='constant',\n",
      "       learning_rate_init=0.001, max_iter=500, momentum=0.9,\n",
      "       n_iter_no_change=10, nesterovs_momentum=True, power_t=0.5,\n",
      "       random_state=9999, shuffle=True, solver='adam', tol=0.001,\n",
      "       validation_fraction=0.083333, verbose=False, warm_start=False)\n",
      "\n",
      "Processing time (seconds): 93.002103\n",
      "\n",
      "Training set accuracy: 0.927217\n",
      "\n",
      "Test set accuracy: 0.917400\n"
     ]
    }
   ],
   "source": [
    "#run through models\n",
    "\n",
    "RANDOM_SEED = 9999\n",
    "\n",
    "from sklearn.neural_network import MLPClassifier\n",
    "\n",
    "names = ['ANN-2-Layers-5-Nodes/Layer-identity',\n",
    "         'ANN-2-Layers-10-Nodes/Layer-identity',\n",
    "         'ANN-4-Layers-5-Nodes/Layer-identity',\n",
    "         'ANN-4-Layers-10-Nodes/Layer-identity']\n",
    "\n",
    "layers = [2, 2, 4, 4]\n",
    "nodes_per_layer = [5,10,5, 10]\n",
    "treatment_condition = [(5, 5), \n",
    "                       (10, 10), \n",
    "                       (5, 5, 5, 5), \n",
    "                       (10, 10, 10, 10)] \n",
    "\n",
    "    \n",
    "methods = [MLPClassifier(hidden_layer_sizes=treatment_condition[0], activation='identity', \n",
    "              solver='adam', alpha=0.0001, batch_size='auto', \n",
    "              learning_rate='constant', learning_rate_init=0.001, \n",
    "              power_t=0.5, max_iter=500, shuffle=True, \n",
    "              random_state=RANDOM_SEED, \n",
    "              tol=0.001, verbose=False, warm_start=False, momentum=0.9, \n",
    "              nesterovs_momentum=True, early_stopping=False, \n",
    "              validation_fraction=0.083333, beta_1=0.9, beta_2=0.999, epsilon=1e-08),\n",
    "    MLPClassifier(hidden_layer_sizes=treatment_condition[1], activation='identity', \n",
    "              solver='adam', alpha=0.0001, batch_size='auto', \n",
    "              learning_rate='constant', learning_rate_init=0.001, \n",
    "              power_t=0.5, max_iter=500, shuffle=True, \n",
    "              random_state=RANDOM_SEED, \n",
    "              tol=0.001, verbose=False, warm_start=False, momentum=0.9, \n",
    "              nesterovs_momentum=True, early_stopping=False, \n",
    "              validation_fraction=0.083333, beta_1=0.9, beta_2=0.999, epsilon=1e-08),\n",
    "    MLPClassifier(hidden_layer_sizes=treatment_condition[2], activation='identity', \n",
    "              solver='adam', alpha=0.0001, batch_size='auto', \n",
    "              learning_rate='constant', learning_rate_init=0.001, \n",
    "              power_t=0.5, max_iter=500, shuffle=True, \n",
    "              random_state=RANDOM_SEED, \n",
    "              tol=0.001, verbose=False, warm_start=False, momentum=0.9, \n",
    "              nesterovs_momentum=True, early_stopping=False, \n",
    "              validation_fraction=0.083333, beta_1=0.9, beta_2=0.999, epsilon=1e-08),\n",
    "    MLPClassifier(hidden_layer_sizes=treatment_condition[3], activation='identity', \n",
    "              solver='adam', alpha=0.0001, batch_size='auto', \n",
    "              learning_rate='constant', learning_rate_init=0.001, \n",
    "              power_t=0.5, max_iter=500, shuffle=True, \n",
    "              random_state=RANDOM_SEED, \n",
    "              tol=0.001, verbose=False, warm_start=False, momentum=0.9, \n",
    "              nesterovs_momentum=True, early_stopping=False, \n",
    "              validation_fraction=0.083333, beta_1=0.9, beta_2=0.999, epsilon=1e-08)]\n",
    " \n",
    "index_for_method = 0 \n",
    "training_performance_results = []\n",
    "test_performance_results = []\n",
    "processing_time = []\n",
    "   \n",
    "for name, method in zip(names, methods):\n",
    "    print('\\n------------------------------------')\n",
    "    print('\\nMethod:', name)\n",
    "    print('\\n  Specification of method:', method)\n",
    "    start_time = time.clock()\n",
    "    method.fit(X_train, y_train)\n",
    "    end_time = time.clock()\n",
    "    runtime = end_time - start_time  # seconds of wall-clock time \n",
    "    print(\"\\nProcessing time (seconds): %f\" % runtime)        \n",
    "    processing_time.append(runtime)\n",
    "\n",
    "    # mean accuracy of prediction in training set\n",
    "    training_performance = method.score(X_train_expanded, y_train_expanded)\n",
    "    print(\"\\nTraining set accuracy: %f\" % training_performance)\n",
    "    training_performance_results.append(training_performance)\n",
    "\n",
    "    # mean accuracy of prediction in test set\n",
    "    test_performance = method.score(X_test, y_test)\n",
    "    print(\"\\nTest set accuracy: %f\" % test_performance)\n",
    "    test_performance_results.append(test_performance)\n",
    "                \n",
    "    index_for_method += 1  "
   ]
  },
  {
   "cell_type": "code",
   "execution_count": 31,
   "metadata": {},
   "outputs": [
    {
     "name": "stdout",
     "output_type": "stream",
     "text": [
      "\n",
      "Benchmark Experiment: Scikit Learn Artificial Neural Networks\n",
      "\n",
      "                            Method Name  Layers  Nodes per Layer  \\\n",
      "0   ANN-2-Layers-5-Nodes/Layer-identity       2                5   \n",
      "1  ANN-2-Layers-10-Nodes/Layer-identity       2               10   \n",
      "2   ANN-4-Layers-5-Nodes/Layer-identity       4                5   \n",
      "3  ANN-4-Layers-10-Nodes/Layer-identity       4               10   \n",
      "\n",
      "   Processing Time  Training Set Accuracy  Test Set Accuracy  \n",
      "0        74.480409               0.903600             0.9009  \n",
      "1        94.075236               0.928317             0.9196  \n",
      "2       119.934976               0.874533             0.8685  \n",
      "3        93.002103               0.927217             0.9174  \n"
     ]
    }
   ],
   "source": [
    "# aggregate the results for final report\n",
    "# using OrderedDict to preserve the order of variables in DataFrame    \n",
    "from collections import OrderedDict  \n",
    "\n",
    "results = pd.DataFrame(OrderedDict([('Method Name', names),\n",
    "                        ('Layers', layers),\n",
    "                        ('Nodes per Layer', nodes_per_layer),\n",
    "                        ('Processing Time', processing_time),\n",
    "                        ('Training Set Accuracy', training_performance_results),\n",
    "                        ('Test Set Accuracy', test_performance_results)]))\n",
    "\n",
    "print('\\nBenchmark Experiment: Scikit Learn Artificial Neural Networks\\n')\n",
    "print(results)  "
   ]
  },
  {
   "cell_type": "markdown",
   "metadata": {},
   "source": [
    "In this initial study, both Tensorflow and Scikit-learn were used to evaluate different types of neural networks. While Tensorflow shows promise, the initial study demonstrated that the time to walk through batches was considerable (almost 45 minutes the first time through) to train the data. Due to some initial errors received, the analysis switched to Python Scikit-learn. \n",
    "\n",
    "The artificial neural network structures were explored within a benchmark experiment, with two levels on each of two experimental factors.  For example, two and four layers along with five and ten nodes per layer. While many MLPClassifier models were run with different nodes, layers, solvers, iterations, etc. to fine-tune the models and adjust for bias and variance, only one result is shown in this report. For example, models with different \n",
    "activation functions for the hidden layer were run initially (relu, tanh, identity, and logistic) and the identity function showed the most promise and moved forward,\n",
    "\n",
    "From this study, we can conclude that more work needs to be done to come up with the optimal solution. Most of the fine-tuning has been a result of trial and error, and with more time, a better solution could be found. I would recommend to the financial institution to continue to walk down the path of evaluating an artificial neural network using the MLPClassifer in Python Scikit-learn with 2 layers and 10 nodes per layer, leveraging the ‘identity’ funtion for the hidden layers along with 'adam' solver for weight optimization. A model with a similar level of accuracy, is the 4 layer, 10 nodes per layer model, suggesting that the additional layers may not be very helpful to include.\n",
    "\n",
    "The tolerance for the optimization along with learning_rate_init should also be explored to carry out to .0001 or .00001 as when I ran these elements, the accuracy tended to improve, but the processing time lengthened. On a more powerful machine, these elements could take less time and help improve the overall model. However, the elements that I have identified appear to be trustworthy for implementing optical character recognition as both the training and test set accuracies are high.  "
   ]
  }
 ],
 "metadata": {
  "kernelspec": {
   "display_name": "Python 2",
   "language": "python",
   "name": "python2"
  },
  "language_info": {
   "codemirror_mode": {
    "name": "ipython",
    "version": 2
   },
   "file_extension": ".py",
   "mimetype": "text/x-python",
   "name": "python",
   "nbconvert_exporter": "python",
   "pygments_lexer": "ipython2",
   "version": "2.7.16"
  }
 },
 "nbformat": 4,
 "nbformat_minor": 2
}
